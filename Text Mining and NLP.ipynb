{
 "cells": [
  {
   "cell_type": "code",
   "execution_count": 17,
   "metadata": {},
   "outputs": [],
   "source": [
    "import os\n",
    "import nltk\n",
    "import nltk.corpus"
   ]
  },
  {
   "cell_type": "code",
   "execution_count": 20,
   "metadata": {},
   "outputs": [
    {
     "name": "stdout",
     "output_type": "stream",
     "text": [
      "[u'cmudict', u'cmudict.zip', u'gazetteers', u'gazetteers.zip', u'genesis', u'genesis.zip', u'gutenberg', u'gutenberg.zip', u'inaugural', u'inaugural.zip', u'movie_reviews', u'movie_reviews.zip', u'names', u'names.zip', u'omw', u'omw.zip', u'shakespeare', u'shakespeare.zip', u'stopwords', u'stopwords.zip', u'treebank', u'treebank.zip', u'twitter_samples', u'twitter_samples.zip', u'wordnet', u'wordnet.zip', u'wordnet_ic', u'wordnet_ic.zip', u'words', u'words.zip']\n"
     ]
    }
   ],
   "source": [
    "print(os.listdir(nltk.data.find(\"corpora\")))"
   ]
  },
  {
   "cell_type": "code",
   "execution_count": 22,
   "metadata": {},
   "outputs": [
    {
     "data": {
      "text/plain": [
       "[u'austen-emma.txt',\n",
       " u'austen-persuasion.txt',\n",
       " u'austen-sense.txt',\n",
       " u'bible-kjv.txt',\n",
       " u'blake-poems.txt',\n",
       " u'bryant-stories.txt',\n",
       " u'burgess-busterbrown.txt',\n",
       " u'carroll-alice.txt',\n",
       " u'chesterton-ball.txt',\n",
       " u'chesterton-brown.txt',\n",
       " u'chesterton-thursday.txt',\n",
       " u'edgeworth-parents.txt',\n",
       " u'melville-moby_dick.txt',\n",
       " u'milton-paradise.txt',\n",
       " u'shakespeare-caesar.txt',\n",
       " u'shakespeare-hamlet.txt',\n",
       " u'shakespeare-macbeth.txt',\n",
       " u'whitman-leaves.txt']"
      ]
     },
     "execution_count": 22,
     "metadata": {},
     "output_type": "execute_result"
    }
   ],
   "source": [
    "nltk.corpus.gutenberg.fileids()"
   ]
  },
  {
   "cell_type": "code",
   "execution_count": 25,
   "metadata": {},
   "outputs": [
    {
     "data": {
      "text/plain": [
       "[u'[', u'The', u'Tragedie', u'of', u'Hamlet', u'by', ...]"
      ]
     },
     "execution_count": 25,
     "metadata": {},
     "output_type": "execute_result"
    }
   ],
   "source": [
    "hamlet=nltk.corpus.gutenberg.words('shakespeare-hamlet.txt')\n",
    "hamlet"
   ]
  },
  {
   "cell_type": "code",
   "execution_count": 32,
   "metadata": {},
   "outputs": [
    {
     "ename": "SyntaxError",
     "evalue": "invalid syntax (<ipython-input-32-e2d54eb6c447>, line 2)",
     "output_type": "error",
     "traceback": [
      "\u001b[1;36m  File \u001b[1;32m\"<ipython-input-32-e2d54eb6c447>\"\u001b[1;36m, line \u001b[1;32m2\u001b[0m\n\u001b[1;33m    print(word, sep=' ', end=' ')\u001b[0m\n\u001b[1;37m                   ^\u001b[0m\n\u001b[1;31mSyntaxError\u001b[0m\u001b[1;31m:\u001b[0m invalid syntax\n"
     ]
    }
   ],
   "source": [
    "for word in hamlet[:500]:\n",
    "    print(word, sep=' ', end=' ')"
   ]
  },
  {
   "cell_type": "code",
   "execution_count": 41,
   "metadata": {},
   "outputs": [],
   "source": [
    "AI=u\"\"\"According to the father of Artificial Intelligence, Jhon McCarthy, it is “The science and engineering of making intelligent machines, especially intelligent computer programs”.\n",
    "Artificial Intelligence is a way of making a computer, a computer-controlled robot, or a software think intelligently, in the similar manner the intelligent humans think.\n",
    "AI is accomplished by studying how human brain thinks, and how humans learn, decide, and work while trying to solve a problem, and then using the outcomes of this study as a basis of developing intelligent software and systems.\n",
    "While exploiting the power of the computer systems, the curiosity of human, lead him to wonder, “Can a machine think and behave like humans do?”\n",
    "Thus, the development of AI started with the intention of creating similar intelligence in machines that we find and regard high in humans.\n",
    "To Create Expert Systems − The systems which exhibit intelligent behavior, learn, demonstrate, explain, and advice its users.\n",
    "To Implement Human Intelligence in Machines − Creating systems that understand, think, learn, and behave like humans.\n",
    "Artificial intelligence is a science and technology based on disciplines such as Computer Science, Biology, Psychology, Linguistics, Mathematics, and Engineering. A major thrust of AI is in the development of computer functions associated with human intelligence, such as reasoning, learning, and problem solving.\n",
    "Out of the following areas, one or multiple areas can contribute to build an intelligent system.\"\"\""
   ]
  },
  {
   "cell_type": "code",
   "execution_count": 42,
   "metadata": {},
   "outputs": [
    {
     "data": {
      "text/plain": [
       "unicode"
      ]
     },
     "execution_count": 42,
     "metadata": {},
     "output_type": "execute_result"
    }
   ],
   "source": [
    "type(AI)"
   ]
  },
  {
   "cell_type": "code",
   "execution_count": 43,
   "metadata": {},
   "outputs": [],
   "source": [
    "from nltk.tokenize import word_tokenize"
   ]
  },
  {
   "cell_type": "code",
   "execution_count": 44,
   "metadata": {},
   "outputs": [
    {
     "data": {
      "text/plain": [
       "[u'According',\n",
       " u'to',\n",
       " u'the',\n",
       " u'father',\n",
       " u'of',\n",
       " u'Artificial',\n",
       " u'Intelligence',\n",
       " u',',\n",
       " u'Jhon',\n",
       " u'McCarthy',\n",
       " u',',\n",
       " u'it',\n",
       " u'is',\n",
       " u'\\u201c',\n",
       " u'The',\n",
       " u'science',\n",
       " u'and',\n",
       " u'engineering',\n",
       " u'of',\n",
       " u'making',\n",
       " u'intelligent',\n",
       " u'machines',\n",
       " u',',\n",
       " u'especially',\n",
       " u'intelligent',\n",
       " u'computer',\n",
       " u'programs',\n",
       " u'\\u201d',\n",
       " u'.',\n",
       " u'Artificial',\n",
       " u'Intelligence',\n",
       " u'is',\n",
       " u'a',\n",
       " u'way',\n",
       " u'of',\n",
       " u'making',\n",
       " u'a',\n",
       " u'computer',\n",
       " u',',\n",
       " u'a',\n",
       " u'computer-controlled',\n",
       " u'robot',\n",
       " u',',\n",
       " u'or',\n",
       " u'a',\n",
       " u'software',\n",
       " u'think',\n",
       " u'intelligently',\n",
       " u',',\n",
       " u'in',\n",
       " u'the',\n",
       " u'similar',\n",
       " u'manner',\n",
       " u'the',\n",
       " u'intelligent',\n",
       " u'humans',\n",
       " u'think',\n",
       " u'.',\n",
       " u'AI',\n",
       " u'is',\n",
       " u'accomplished',\n",
       " u'by',\n",
       " u'studying',\n",
       " u'how',\n",
       " u'human',\n",
       " u'brain',\n",
       " u'thinks',\n",
       " u',',\n",
       " u'and',\n",
       " u'how',\n",
       " u'humans',\n",
       " u'learn',\n",
       " u',',\n",
       " u'decide',\n",
       " u',',\n",
       " u'and',\n",
       " u'work',\n",
       " u'while',\n",
       " u'trying',\n",
       " u'to',\n",
       " u'solve',\n",
       " u'a',\n",
       " u'problem',\n",
       " u',',\n",
       " u'and',\n",
       " u'then',\n",
       " u'using',\n",
       " u'the',\n",
       " u'outcomes',\n",
       " u'of',\n",
       " u'this',\n",
       " u'study',\n",
       " u'as',\n",
       " u'a',\n",
       " u'basis',\n",
       " u'of',\n",
       " u'developing',\n",
       " u'intelligent',\n",
       " u'software',\n",
       " u'and',\n",
       " u'systems',\n",
       " u'.',\n",
       " u'While',\n",
       " u'exploiting',\n",
       " u'the',\n",
       " u'power',\n",
       " u'of',\n",
       " u'the',\n",
       " u'computer',\n",
       " u'systems',\n",
       " u',',\n",
       " u'the',\n",
       " u'curiosity',\n",
       " u'of',\n",
       " u'human',\n",
       " u',',\n",
       " u'lead',\n",
       " u'him',\n",
       " u'to',\n",
       " u'wonder',\n",
       " u',',\n",
       " u'\\u201c',\n",
       " u'Can',\n",
       " u'a',\n",
       " u'machine',\n",
       " u'think',\n",
       " u'and',\n",
       " u'behave',\n",
       " u'like',\n",
       " u'humans',\n",
       " u'do',\n",
       " u'?',\n",
       " u'\\u201d',\n",
       " u'Thus',\n",
       " u',',\n",
       " u'the',\n",
       " u'development',\n",
       " u'of',\n",
       " u'AI',\n",
       " u'started',\n",
       " u'with',\n",
       " u'the',\n",
       " u'intention',\n",
       " u'of',\n",
       " u'creating',\n",
       " u'similar',\n",
       " u'intelligence',\n",
       " u'in',\n",
       " u'machines',\n",
       " u'that',\n",
       " u'we',\n",
       " u'find',\n",
       " u'and',\n",
       " u'regard',\n",
       " u'high',\n",
       " u'in',\n",
       " u'humans',\n",
       " u'.',\n",
       " u'To',\n",
       " u'Create',\n",
       " u'Expert',\n",
       " u'Systems',\n",
       " u'\\u2212',\n",
       " u'The',\n",
       " u'systems',\n",
       " u'which',\n",
       " u'exhibit',\n",
       " u'intelligent',\n",
       " u'behavior',\n",
       " u',',\n",
       " u'learn',\n",
       " u',',\n",
       " u'demonstrate',\n",
       " u',',\n",
       " u'explain',\n",
       " u',',\n",
       " u'and',\n",
       " u'advice',\n",
       " u'its',\n",
       " u'users',\n",
       " u'.',\n",
       " u'To',\n",
       " u'Implement',\n",
       " u'Human',\n",
       " u'Intelligence',\n",
       " u'in',\n",
       " u'Machines',\n",
       " u'\\u2212',\n",
       " u'Creating',\n",
       " u'systems',\n",
       " u'that',\n",
       " u'understand',\n",
       " u',',\n",
       " u'think',\n",
       " u',',\n",
       " u'learn',\n",
       " u',',\n",
       " u'and',\n",
       " u'behave',\n",
       " u'like',\n",
       " u'humans',\n",
       " u'.',\n",
       " u'Artificial',\n",
       " u'intelligence',\n",
       " u'is',\n",
       " u'a',\n",
       " u'science',\n",
       " u'and',\n",
       " u'technology',\n",
       " u'based',\n",
       " u'on',\n",
       " u'disciplines',\n",
       " u'such',\n",
       " u'as',\n",
       " u'Computer',\n",
       " u'Science',\n",
       " u',',\n",
       " u'Biology',\n",
       " u',',\n",
       " u'Psychology',\n",
       " u',',\n",
       " u'Linguistics',\n",
       " u',',\n",
       " u'Mathematics',\n",
       " u',',\n",
       " u'and',\n",
       " u'Engineering',\n",
       " u'.',\n",
       " u'A',\n",
       " u'major',\n",
       " u'thrust',\n",
       " u'of',\n",
       " u'AI',\n",
       " u'is',\n",
       " u'in',\n",
       " u'the',\n",
       " u'development',\n",
       " u'of',\n",
       " u'computer',\n",
       " u'functions',\n",
       " u'associated',\n",
       " u'with',\n",
       " u'human',\n",
       " u'intelligence',\n",
       " u',',\n",
       " u'such',\n",
       " u'as',\n",
       " u'reasoning',\n",
       " u',',\n",
       " u'learning',\n",
       " u',',\n",
       " u'and',\n",
       " u'problem',\n",
       " u'solving',\n",
       " u'.',\n",
       " u'Out',\n",
       " u'of',\n",
       " u'the',\n",
       " u'following',\n",
       " u'areas',\n",
       " u',',\n",
       " u'one',\n",
       " u'or',\n",
       " u'multiple',\n",
       " u'areas',\n",
       " u'can',\n",
       " u'contribute',\n",
       " u'to',\n",
       " u'build',\n",
       " u'an',\n",
       " u'intelligent',\n",
       " u'system',\n",
       " u'.']"
      ]
     },
     "execution_count": 44,
     "metadata": {},
     "output_type": "execute_result"
    }
   ],
   "source": [
    "AI_token=word_tokenize(AI)\n",
    "AI_token"
   ]
  },
  {
   "cell_type": "code",
   "execution_count": 45,
   "metadata": {},
   "outputs": [
    {
     "data": {
      "text/plain": [
       "273"
      ]
     },
     "execution_count": 45,
     "metadata": {},
     "output_type": "execute_result"
    }
   ],
   "source": [
    "len(AI_token)"
   ]
  },
  {
   "cell_type": "code",
   "execution_count": 46,
   "metadata": {},
   "outputs": [],
   "source": [
    "from nltk.probability import FreqDist\n",
    "fdist=FreqDist()"
   ]
  },
  {
   "cell_type": "code",
   "execution_count": 47,
   "metadata": {},
   "outputs": [
    {
     "data": {
      "text/plain": [
       "FreqDist({u',': 30, u'the': 13, u'of': 12, u'and': 12, u'.': 9, u'a': 9, u'to': 6, u'intelligence': 6, u'intelligent': 6, u'systems': 5, ...})"
      ]
     },
     "execution_count": 47,
     "metadata": {},
     "output_type": "execute_result"
    }
   ],
   "source": [
    "for word in AI_token:\n",
    "    fdist[word.lower()]+=1\n",
    "fdist"
   ]
  },
  {
   "cell_type": "code",
   "execution_count": 48,
   "metadata": {},
   "outputs": [
    {
     "data": {
      "text/plain": [
       "[(u',', 30),\n",
       " (u'the', 13),\n",
       " (u'of', 12),\n",
       " (u'and', 12),\n",
       " (u'.', 9),\n",
       " (u'a', 9),\n",
       " (u'to', 6),\n",
       " (u'intelligence', 6),\n",
       " (u'intelligent', 6),\n",
       " (u'systems', 5)]"
      ]
     },
     "execution_count": 48,
     "metadata": {},
     "output_type": "execute_result"
    }
   ],
   "source": [
    "fdist_top10=fdist.most_common(10)\n",
    "fdist_top10\n"
   ]
  },
  {
   "cell_type": "code",
   "execution_count": 53,
   "metadata": {},
   "outputs": [
    {
     "ename": "TypeError",
     "evalue": "expected string or buffer",
     "output_type": "error",
     "traceback": [
      "\u001b[1;31m---------------------------------------------------------------------------\u001b[0m",
      "\u001b[1;31mTypeError\u001b[0m                                 Traceback (most recent call last)",
      "\u001b[1;32m<ipython-input-53-3f2c94932d3d>\u001b[0m in \u001b[0;36m<module>\u001b[1;34m()\u001b[0m\n\u001b[0;32m      1\u001b[0m \u001b[1;32mfrom\u001b[0m \u001b[0mnltk\u001b[0m\u001b[1;33m.\u001b[0m\u001b[0mtokenize\u001b[0m \u001b[1;32mimport\u001b[0m \u001b[0mblankline_tokenize\u001b[0m\u001b[1;33m\u001b[0m\u001b[0m\n\u001b[1;32m----> 2\u001b[1;33m \u001b[0mAI_blank\u001b[0m\u001b[1;33m=\u001b[0m\u001b[0mblankline_tokenize\u001b[0m\u001b[1;33m(\u001b[0m\u001b[0mAI_token\u001b[0m\u001b[1;33m)\u001b[0m\u001b[1;33m\u001b[0m\u001b[0m\n\u001b[0m\u001b[0;32m      3\u001b[0m \u001b[0mlen\u001b[0m\u001b[1;33m(\u001b[0m\u001b[0mAI_blank\u001b[0m\u001b[1;33m)\u001b[0m\u001b[1;33m\u001b[0m\u001b[0m\n",
      "\u001b[1;32mC:\\Users\\TOSHIBA\\Anaconda2\\lib\\site-packages\\nltk\\tokenize\\regexp.pyc\u001b[0m in \u001b[0;36mtokenize\u001b[1;34m(self, text)\u001b[0m\n\u001b[0;32m    128\u001b[0m         \u001b[1;32mif\u001b[0m \u001b[0mself\u001b[0m\u001b[1;33m.\u001b[0m\u001b[0m_gaps\u001b[0m\u001b[1;33m:\u001b[0m\u001b[1;33m\u001b[0m\u001b[0m\n\u001b[0;32m    129\u001b[0m             \u001b[1;32mif\u001b[0m \u001b[0mself\u001b[0m\u001b[1;33m.\u001b[0m\u001b[0m_discard_empty\u001b[0m\u001b[1;33m:\u001b[0m\u001b[1;33m\u001b[0m\u001b[0m\n\u001b[1;32m--> 130\u001b[1;33m                 \u001b[1;32mreturn\u001b[0m \u001b[1;33m[\u001b[0m\u001b[0mtok\u001b[0m \u001b[1;32mfor\u001b[0m \u001b[0mtok\u001b[0m \u001b[1;32min\u001b[0m \u001b[0mself\u001b[0m\u001b[1;33m.\u001b[0m\u001b[0m_regexp\u001b[0m\u001b[1;33m.\u001b[0m\u001b[0msplit\u001b[0m\u001b[1;33m(\u001b[0m\u001b[0mtext\u001b[0m\u001b[1;33m)\u001b[0m \u001b[1;32mif\u001b[0m \u001b[0mtok\u001b[0m\u001b[1;33m]\u001b[0m\u001b[1;33m\u001b[0m\u001b[0m\n\u001b[0m\u001b[0;32m    131\u001b[0m             \u001b[1;32melse\u001b[0m\u001b[1;33m:\u001b[0m\u001b[1;33m\u001b[0m\u001b[0m\n\u001b[0;32m    132\u001b[0m                 \u001b[1;32mreturn\u001b[0m \u001b[0mself\u001b[0m\u001b[1;33m.\u001b[0m\u001b[0m_regexp\u001b[0m\u001b[1;33m.\u001b[0m\u001b[0msplit\u001b[0m\u001b[1;33m(\u001b[0m\u001b[0mtext\u001b[0m\u001b[1;33m)\u001b[0m\u001b[1;33m\u001b[0m\u001b[0m\n",
      "\u001b[1;31mTypeError\u001b[0m: expected string or buffer"
     ]
    }
   ],
   "source": [
    "from nltk.tokenize import blankline_tokenize\n",
    "AI_blank=blankline_tokenize(AI_token)\n",
    "len(AI_blank)"
   ]
  },
  {
   "cell_type": "code",
   "execution_count": 54,
   "metadata": {},
   "outputs": [],
   "source": [
    "#Demonstration of Bigrams,Trigrams and Ngrams "
   ]
  },
  {
   "cell_type": "code",
   "execution_count": 56,
   "metadata": {},
   "outputs": [],
   "source": [
    "from nltk.util import bigrams, trigrams, ngrams\n"
   ]
  },
  {
   "cell_type": "code",
   "execution_count": 57,
   "metadata": {},
   "outputs": [
    {
     "data": {
      "text/plain": [
       "['The',\n",
       " 'best',\n",
       " 'and',\n",
       " 'most',\n",
       " 'beutiful',\n",
       " 'thing',\n",
       " 'in',\n",
       " 'the',\n",
       " 'world',\n",
       " 'is',\n",
       " 'can',\n",
       " 'not',\n",
       " 'be',\n",
       " 'seen',\n",
       " 'or',\n",
       " 'even',\n",
       " 'touched',\n",
       " ',',\n",
       " 'they',\n",
       " 'must',\n",
       " 'be',\n",
       " 'felt',\n",
       " 'with',\n",
       " 'the',\n",
       " 'heart']"
      ]
     },
     "execution_count": 57,
     "metadata": {},
     "output_type": "execute_result"
    }
   ],
   "source": [
    "string=\"The best and most beutiful thing in the world is cannot be seen or even touched, they must be felt with the heart\"\n",
    "qoutes_token=nltk.word_tokenize(string)\n",
    "qoutes_token"
   ]
  },
  {
   "cell_type": "code",
   "execution_count": 59,
   "metadata": {
    "scrolled": true
   },
   "outputs": [
    {
     "data": {
      "text/plain": [
       "[('The', 'best'),\n",
       " ('best', 'and'),\n",
       " ('and', 'most'),\n",
       " ('most', 'beutiful'),\n",
       " ('beutiful', 'thing'),\n",
       " ('thing', 'in'),\n",
       " ('in', 'the'),\n",
       " ('the', 'world'),\n",
       " ('world', 'is'),\n",
       " ('is', 'can'),\n",
       " ('can', 'not'),\n",
       " ('not', 'be'),\n",
       " ('be', 'seen'),\n",
       " ('seen', 'or'),\n",
       " ('or', 'even'),\n",
       " ('even', 'touched'),\n",
       " ('touched', ','),\n",
       " (',', 'they'),\n",
       " ('they', 'must'),\n",
       " ('must', 'be'),\n",
       " ('be', 'felt'),\n",
       " ('felt', 'with'),\n",
       " ('with', 'the'),\n",
       " ('the', 'heart')]"
      ]
     },
     "execution_count": 59,
     "metadata": {},
     "output_type": "execute_result"
    }
   ],
   "source": [
    "quotes_bigrams=list(nltk.bigrams(qoutes_token))\n",
    "quotes_bigrams"
   ]
  },
  {
   "cell_type": "code",
   "execution_count": 60,
   "metadata": {},
   "outputs": [
    {
     "data": {
      "text/plain": [
       "[('The', 'best', 'and'),\n",
       " ('best', 'and', 'most'),\n",
       " ('and', 'most', 'beutiful'),\n",
       " ('most', 'beutiful', 'thing'),\n",
       " ('beutiful', 'thing', 'in'),\n",
       " ('thing', 'in', 'the'),\n",
       " ('in', 'the', 'world'),\n",
       " ('the', 'world', 'is'),\n",
       " ('world', 'is', 'can'),\n",
       " ('is', 'can', 'not'),\n",
       " ('can', 'not', 'be'),\n",
       " ('not', 'be', 'seen'),\n",
       " ('be', 'seen', 'or'),\n",
       " ('seen', 'or', 'even'),\n",
       " ('or', 'even', 'touched'),\n",
       " ('even', 'touched', ','),\n",
       " ('touched', ',', 'they'),\n",
       " (',', 'they', 'must'),\n",
       " ('they', 'must', 'be'),\n",
       " ('must', 'be', 'felt'),\n",
       " ('be', 'felt', 'with'),\n",
       " ('felt', 'with', 'the'),\n",
       " ('with', 'the', 'heart')]"
      ]
     },
     "execution_count": 60,
     "metadata": {},
     "output_type": "execute_result"
    }
   ],
   "source": [
    "quotes_trigrams=list(nltk.trigrams(qoutes_token))\n",
    "quotes_trigrams"
   ]
  },
  {
   "cell_type": "code",
   "execution_count": 61,
   "metadata": {},
   "outputs": [
    {
     "data": {
      "text/plain": [
       "[('The', 'best', 'and', 'most'),\n",
       " ('best', 'and', 'most', 'beutiful'),\n",
       " ('and', 'most', 'beutiful', 'thing'),\n",
       " ('most', 'beutiful', 'thing', 'in'),\n",
       " ('beutiful', 'thing', 'in', 'the'),\n",
       " ('thing', 'in', 'the', 'world'),\n",
       " ('in', 'the', 'world', 'is'),\n",
       " ('the', 'world', 'is', 'can'),\n",
       " ('world', 'is', 'can', 'not'),\n",
       " ('is', 'can', 'not', 'be'),\n",
       " ('can', 'not', 'be', 'seen'),\n",
       " ('not', 'be', 'seen', 'or'),\n",
       " ('be', 'seen', 'or', 'even'),\n",
       " ('seen', 'or', 'even', 'touched'),\n",
       " ('or', 'even', 'touched', ','),\n",
       " ('even', 'touched', ',', 'they'),\n",
       " ('touched', ',', 'they', 'must'),\n",
       " (',', 'they', 'must', 'be'),\n",
       " ('they', 'must', 'be', 'felt'),\n",
       " ('must', 'be', 'felt', 'with'),\n",
       " ('be', 'felt', 'with', 'the'),\n",
       " ('felt', 'with', 'the', 'heart')]"
      ]
     },
     "execution_count": 61,
     "metadata": {},
     "output_type": "execute_result"
    }
   ],
   "source": [
    "quotes_ngrams=list(nltk.ngrams(qoutes_token,4))\n",
    "quotes_ngrams"
   ]
  },
  {
   "cell_type": "code",
   "execution_count": 62,
   "metadata": {},
   "outputs": [],
   "source": [
    "#stemming is the process of normalize wors in to base or root word "
   ]
  },
  {
   "cell_type": "code",
   "execution_count": 63,
   "metadata": {},
   "outputs": [],
   "source": [
    "#porter stem demonstration "
   ]
  },
  {
   "cell_type": "code",
   "execution_count": 65,
   "metadata": {},
   "outputs": [
    {
     "data": {
      "text/plain": [
       "u'have'"
      ]
     },
     "execution_count": 65,
     "metadata": {},
     "output_type": "execute_result"
    }
   ],
   "source": [
    "from nltk.stem import PorterStemmer\n",
    "pst= PorterStemmer()\n",
    "pst.stem(\"having\")"
   ]
  },
  {
   "cell_type": "code",
   "execution_count": 67,
   "metadata": {},
   "outputs": [
    {
     "name": "stdout",
     "output_type": "stream",
     "text": [
      "give:give\n",
      "giving:give\n",
      "given:given\n",
      "gave:gave\n"
     ]
    }
   ],
   "source": [
    "word_to_stem=[\"give\",\"giving\",\"given\",\"gave\"]\n",
    "for words in word_to_stem:\n",
    "    print(words+ \":\" +pst.stem(words))"
   ]
  },
  {
   "cell_type": "code",
   "execution_count": 68,
   "metadata": {},
   "outputs": [],
   "source": [
    "#Demonstration of lancaster stem "
   ]
  },
  {
   "cell_type": "code",
   "execution_count": 69,
   "metadata": {},
   "outputs": [
    {
     "name": "stdout",
     "output_type": "stream",
     "text": [
      "give:giv\n",
      "giving:giv\n",
      "given:giv\n",
      "gave:gav\n"
     ]
    }
   ],
   "source": [
    "from nltk.stem import LancasterStemmer\n",
    "lst= LancasterStemmer()\n",
    "for words in word_to_stem:\n",
    "    print(words+ \":\" +lst.stem(words))"
   ]
  },
  {
   "cell_type": "code",
   "execution_count": 70,
   "metadata": {},
   "outputs": [],
   "source": [
    "#Demonstarion of Lemmatization"
   ]
  },
  {
   "cell_type": "code",
   "execution_count": 76,
   "metadata": {},
   "outputs": [],
   "source": [
    "from nltk.stem import wordnet\n",
    "from nltk.stem import WordNetLemmatizer\n",
    "word_len=WordNetLemmatizer()"
   ]
  },
  {
   "cell_type": "code",
   "execution_count": 77,
   "metadata": {},
   "outputs": [
    {
     "data": {
      "text/plain": [
       "u'corpus'"
      ]
     },
     "execution_count": 77,
     "metadata": {},
     "output_type": "execute_result"
    }
   ],
   "source": [
    "word_len.lemmatize('corpora')"
   ]
  },
  {
   "cell_type": "code",
   "execution_count": 78,
   "metadata": {},
   "outputs": [
    {
     "name": "stdout",
     "output_type": "stream",
     "text": [
      "give:give\n",
      "giving:giving\n",
      "given:given\n",
      "gave:gave\n"
     ]
    }
   ],
   "source": [
    "for words in word_to_stem:\n",
    "    print(words+ \":\" +word_len.lemmatize(words))"
   ]
  },
  {
   "cell_type": "code",
   "execution_count": 79,
   "metadata": {},
   "outputs": [],
   "source": [
    "#stop word is useful in statment formation but does not have a use processing so we have to remove this stop words"
   ]
  },
  {
   "cell_type": "code",
   "execution_count": 80,
   "metadata": {},
   "outputs": [],
   "source": [
    "#stop word demonstration "
   ]
  },
  {
   "cell_type": "code",
   "execution_count": 81,
   "metadata": {},
   "outputs": [],
   "source": [
    "from nltk.corpus import stopwords"
   ]
  },
  {
   "cell_type": "code",
   "execution_count": 82,
   "metadata": {},
   "outputs": [
    {
     "data": {
      "text/plain": [
       "[u'i',\n",
       " u'me',\n",
       " u'my',\n",
       " u'myself',\n",
       " u'we',\n",
       " u'our',\n",
       " u'ours',\n",
       " u'ourselves',\n",
       " u'you',\n",
       " u\"you're\",\n",
       " u\"you've\",\n",
       " u\"you'll\",\n",
       " u\"you'd\",\n",
       " u'your',\n",
       " u'yours',\n",
       " u'yourself',\n",
       " u'yourselves',\n",
       " u'he',\n",
       " u'him',\n",
       " u'his',\n",
       " u'himself',\n",
       " u'she',\n",
       " u\"she's\",\n",
       " u'her',\n",
       " u'hers',\n",
       " u'herself',\n",
       " u'it',\n",
       " u\"it's\",\n",
       " u'its',\n",
       " u'itself',\n",
       " u'they',\n",
       " u'them',\n",
       " u'their',\n",
       " u'theirs',\n",
       " u'themselves',\n",
       " u'what',\n",
       " u'which',\n",
       " u'who',\n",
       " u'whom',\n",
       " u'this',\n",
       " u'that',\n",
       " u\"that'll\",\n",
       " u'these',\n",
       " u'those',\n",
       " u'am',\n",
       " u'is',\n",
       " u'are',\n",
       " u'was',\n",
       " u'were',\n",
       " u'be',\n",
       " u'been',\n",
       " u'being',\n",
       " u'have',\n",
       " u'has',\n",
       " u'had',\n",
       " u'having',\n",
       " u'do',\n",
       " u'does',\n",
       " u'did',\n",
       " u'doing',\n",
       " u'a',\n",
       " u'an',\n",
       " u'the',\n",
       " u'and',\n",
       " u'but',\n",
       " u'if',\n",
       " u'or',\n",
       " u'because',\n",
       " u'as',\n",
       " u'until',\n",
       " u'while',\n",
       " u'of',\n",
       " u'at',\n",
       " u'by',\n",
       " u'for',\n",
       " u'with',\n",
       " u'about',\n",
       " u'against',\n",
       " u'between',\n",
       " u'into',\n",
       " u'through',\n",
       " u'during',\n",
       " u'before',\n",
       " u'after',\n",
       " u'above',\n",
       " u'below',\n",
       " u'to',\n",
       " u'from',\n",
       " u'up',\n",
       " u'down',\n",
       " u'in',\n",
       " u'out',\n",
       " u'on',\n",
       " u'off',\n",
       " u'over',\n",
       " u'under',\n",
       " u'again',\n",
       " u'further',\n",
       " u'then',\n",
       " u'once',\n",
       " u'here',\n",
       " u'there',\n",
       " u'when',\n",
       " u'where',\n",
       " u'why',\n",
       " u'how',\n",
       " u'all',\n",
       " u'any',\n",
       " u'both',\n",
       " u'each',\n",
       " u'few',\n",
       " u'more',\n",
       " u'most',\n",
       " u'other',\n",
       " u'some',\n",
       " u'such',\n",
       " u'no',\n",
       " u'nor',\n",
       " u'not',\n",
       " u'only',\n",
       " u'own',\n",
       " u'same',\n",
       " u'so',\n",
       " u'than',\n",
       " u'too',\n",
       " u'very',\n",
       " u's',\n",
       " u't',\n",
       " u'can',\n",
       " u'will',\n",
       " u'just',\n",
       " u'don',\n",
       " u\"don't\",\n",
       " u'should',\n",
       " u\"should've\",\n",
       " u'now',\n",
       " u'd',\n",
       " u'll',\n",
       " u'm',\n",
       " u'o',\n",
       " u're',\n",
       " u've',\n",
       " u'y',\n",
       " u'ain',\n",
       " u'aren',\n",
       " u\"aren't\",\n",
       " u'couldn',\n",
       " u\"couldn't\",\n",
       " u'didn',\n",
       " u\"didn't\",\n",
       " u'doesn',\n",
       " u\"doesn't\",\n",
       " u'hadn',\n",
       " u\"hadn't\",\n",
       " u'hasn',\n",
       " u\"hasn't\",\n",
       " u'haven',\n",
       " u\"haven't\",\n",
       " u'isn',\n",
       " u\"isn't\",\n",
       " u'ma',\n",
       " u'mightn',\n",
       " u\"mightn't\",\n",
       " u'mustn',\n",
       " u\"mustn't\",\n",
       " u'needn',\n",
       " u\"needn't\",\n",
       " u'shan',\n",
       " u\"shan't\",\n",
       " u'shouldn',\n",
       " u\"shouldn't\",\n",
       " u'wasn',\n",
       " u\"wasn't\",\n",
       " u'weren',\n",
       " u\"weren't\",\n",
       " u'won',\n",
       " u\"won't\",\n",
       " u'wouldn',\n",
       " u\"wouldn't\"]"
      ]
     },
     "execution_count": 82,
     "metadata": {},
     "output_type": "execute_result"
    }
   ],
   "source": [
    "stopwords.words(\"english\")"
   ]
  },
  {
   "cell_type": "code",
   "execution_count": 83,
   "metadata": {},
   "outputs": [
    {
     "data": {
      "text/plain": [
       "179"
      ]
     },
     "execution_count": 83,
     "metadata": {},
     "output_type": "execute_result"
    }
   ],
   "source": [
    "len(stopwords.words(\"english\"))"
   ]
  },
  {
   "cell_type": "code",
   "execution_count": 86,
   "metadata": {},
   "outputs": [
    {
     "data": {
      "text/plain": [
       "[(u',', 30),\n",
       " (u'the', 13),\n",
       " (u'of', 12),\n",
       " (u'and', 12),\n",
       " (u'.', 9),\n",
       " (u'a', 9),\n",
       " (u'to', 6),\n",
       " (u'intelligence', 6),\n",
       " (u'intelligent', 6),\n",
       " (u'systems', 5)]"
      ]
     },
     "execution_count": 86,
     "metadata": {},
     "output_type": "execute_result"
    }
   ],
   "source": [
    "fdist_top10"
   ]
  },
  {
   "cell_type": "code",
   "execution_count": 87,
   "metadata": {},
   "outputs": [],
   "source": [
    "# removing of stop words "
   ]
  },
  {
   "cell_type": "code",
   "execution_count": 89,
   "metadata": {},
   "outputs": [],
   "source": [
    "import re\n",
    "punctuation=re.compile(r'[-.?,:;()|0-9]')"
   ]
  },
  {
   "cell_type": "code",
   "execution_count": 91,
   "metadata": {},
   "outputs": [],
   "source": [
    "post_punctuation=[]\n",
    "for words in AI_token:\n",
    "    word=punctuation.sub(\"\",words)\n",
    "    if len(word)>0:\n",
    "        post_punctuation.append(words)"
   ]
  },
  {
   "cell_type": "code",
   "execution_count": 93,
   "metadata": {
    "scrolled": true
   },
   "outputs": [
    {
     "data": {
      "text/plain": [
       "[u'According',\n",
       " u'to',\n",
       " u'the',\n",
       " u'father',\n",
       " u'of',\n",
       " u'Artificial',\n",
       " u'Intelligence',\n",
       " u'Jhon',\n",
       " u'McCarthy',\n",
       " u'it',\n",
       " u'is',\n",
       " u'\\u201c',\n",
       " u'The',\n",
       " u'science',\n",
       " u'and',\n",
       " u'engineering',\n",
       " u'of',\n",
       " u'making',\n",
       " u'intelligent',\n",
       " u'machines',\n",
       " u'especially',\n",
       " u'intelligent',\n",
       " u'computer',\n",
       " u'programs',\n",
       " u'\\u201d',\n",
       " u'Artificial',\n",
       " u'Intelligence',\n",
       " u'is',\n",
       " u'a',\n",
       " u'way',\n",
       " u'of',\n",
       " u'making',\n",
       " u'a',\n",
       " u'computer',\n",
       " u'a',\n",
       " u'computer-controlled',\n",
       " u'robot',\n",
       " u'or',\n",
       " u'a',\n",
       " u'software',\n",
       " u'think',\n",
       " u'intelligently',\n",
       " u'in',\n",
       " u'the',\n",
       " u'similar',\n",
       " u'manner',\n",
       " u'the',\n",
       " u'intelligent',\n",
       " u'humans',\n",
       " u'think',\n",
       " u'AI',\n",
       " u'is',\n",
       " u'accomplished',\n",
       " u'by',\n",
       " u'studying',\n",
       " u'how',\n",
       " u'human',\n",
       " u'brain',\n",
       " u'thinks',\n",
       " u'and',\n",
       " u'how',\n",
       " u'humans',\n",
       " u'learn',\n",
       " u'decide',\n",
       " u'and',\n",
       " u'work',\n",
       " u'while',\n",
       " u'trying',\n",
       " u'to',\n",
       " u'solve',\n",
       " u'a',\n",
       " u'problem',\n",
       " u'and',\n",
       " u'then',\n",
       " u'using',\n",
       " u'the',\n",
       " u'outcomes',\n",
       " u'of',\n",
       " u'this',\n",
       " u'study',\n",
       " u'as',\n",
       " u'a',\n",
       " u'basis',\n",
       " u'of',\n",
       " u'developing',\n",
       " u'intelligent',\n",
       " u'software',\n",
       " u'and',\n",
       " u'systems',\n",
       " u'While',\n",
       " u'exploiting',\n",
       " u'the',\n",
       " u'power',\n",
       " u'of',\n",
       " u'the',\n",
       " u'computer',\n",
       " u'systems',\n",
       " u'the',\n",
       " u'curiosity',\n",
       " u'of',\n",
       " u'human',\n",
       " u'lead',\n",
       " u'him',\n",
       " u'to',\n",
       " u'wonder',\n",
       " u'\\u201c',\n",
       " u'Can',\n",
       " u'a',\n",
       " u'machine',\n",
       " u'think',\n",
       " u'and',\n",
       " u'behave',\n",
       " u'like',\n",
       " u'humans',\n",
       " u'do',\n",
       " u'\\u201d',\n",
       " u'Thus',\n",
       " u'the',\n",
       " u'development',\n",
       " u'of',\n",
       " u'AI',\n",
       " u'started',\n",
       " u'with',\n",
       " u'the',\n",
       " u'intention',\n",
       " u'of',\n",
       " u'creating',\n",
       " u'similar',\n",
       " u'intelligence',\n",
       " u'in',\n",
       " u'machines',\n",
       " u'that',\n",
       " u'we',\n",
       " u'find',\n",
       " u'and',\n",
       " u'regard',\n",
       " u'high',\n",
       " u'in',\n",
       " u'humans',\n",
       " u'To',\n",
       " u'Create',\n",
       " u'Expert',\n",
       " u'Systems',\n",
       " u'\\u2212',\n",
       " u'The',\n",
       " u'systems',\n",
       " u'which',\n",
       " u'exhibit',\n",
       " u'intelligent',\n",
       " u'behavior',\n",
       " u'learn',\n",
       " u'demonstrate',\n",
       " u'explain',\n",
       " u'and',\n",
       " u'advice',\n",
       " u'its',\n",
       " u'users',\n",
       " u'To',\n",
       " u'Implement',\n",
       " u'Human',\n",
       " u'Intelligence',\n",
       " u'in',\n",
       " u'Machines',\n",
       " u'\\u2212',\n",
       " u'Creating',\n",
       " u'systems',\n",
       " u'that',\n",
       " u'understand',\n",
       " u'think',\n",
       " u'learn',\n",
       " u'and',\n",
       " u'behave',\n",
       " u'like',\n",
       " u'humans',\n",
       " u'Artificial',\n",
       " u'intelligence',\n",
       " u'is',\n",
       " u'a',\n",
       " u'science',\n",
       " u'and',\n",
       " u'technology',\n",
       " u'based',\n",
       " u'on',\n",
       " u'disciplines',\n",
       " u'such',\n",
       " u'as',\n",
       " u'Computer',\n",
       " u'Science',\n",
       " u'Biology',\n",
       " u'Psychology',\n",
       " u'Linguistics',\n",
       " u'Mathematics',\n",
       " u'and',\n",
       " u'Engineering',\n",
       " u'A',\n",
       " u'major',\n",
       " u'thrust',\n",
       " u'of',\n",
       " u'AI',\n",
       " u'is',\n",
       " u'in',\n",
       " u'the',\n",
       " u'development',\n",
       " u'of',\n",
       " u'computer',\n",
       " u'functions',\n",
       " u'associated',\n",
       " u'with',\n",
       " u'human',\n",
       " u'intelligence',\n",
       " u'such',\n",
       " u'as',\n",
       " u'reasoning',\n",
       " u'learning',\n",
       " u'and',\n",
       " u'problem',\n",
       " u'solving',\n",
       " u'Out',\n",
       " u'of',\n",
       " u'the',\n",
       " u'following',\n",
       " u'areas',\n",
       " u'one',\n",
       " u'or',\n",
       " u'multiple',\n",
       " u'areas',\n",
       " u'can',\n",
       " u'contribute',\n",
       " u'to',\n",
       " u'build',\n",
       " u'an',\n",
       " u'intelligent',\n",
       " u'system']"
      ]
     },
     "execution_count": 93,
     "metadata": {},
     "output_type": "execute_result"
    }
   ],
   "source": [
    "post_punctuation"
   ]
  },
  {
   "cell_type": "code",
   "execution_count": 94,
   "metadata": {},
   "outputs": [
    {
     "data": {
      "text/plain": [
       "233"
      ]
     },
     "execution_count": 94,
     "metadata": {},
     "output_type": "execute_result"
    }
   ],
   "source": [
    "len(post_punctuation)"
   ]
  },
  {
   "cell_type": "code",
   "execution_count": 96,
   "metadata": {},
   "outputs": [],
   "source": [
    "#POS(part of speech) coresponding of every tokens with tag and discriptor"
   ]
  },
  {
   "cell_type": "code",
   "execution_count": 97,
   "metadata": {},
   "outputs": [],
   "source": [
    "#demonstration of how to define POS tag "
   ]
  },
  {
   "cell_type": "code",
   "execution_count": 100,
   "metadata": {},
   "outputs": [],
   "source": [
    "sent=\"Timothy is a natural when it comes to drawing\"\n",
    "sent_tokens=word_tokenize(sent)"
   ]
  },
  {
   "cell_type": "code",
   "execution_count": 101,
   "metadata": {
    "scrolled": true
   },
   "outputs": [
    {
     "name": "stdout",
     "output_type": "stream",
     "text": [
      "[('Timothy', 'NN')]\n",
      "[('is', 'VBZ')]\n",
      "[('a', 'DT')]\n",
      "[('natural', 'JJ')]\n",
      "[('when', 'WRB')]\n",
      "[('it', 'PRP')]\n",
      "[('comes', 'VBZ')]\n",
      "[('to', 'TO')]\n",
      "[('drawing', 'VBG')]\n"
     ]
    }
   ],
   "source": [
    "for token in sent_tokens:\n",
    "    print(nltk.pos_tag([token]))"
   ]
  },
  {
   "cell_type": "code",
   "execution_count": 102,
   "metadata": {},
   "outputs": [],
   "source": [
    "sent2=\"jhon is eating a delicious cake\"\n",
    "sent_tokens=word_tokenize(sent2)"
   ]
  },
  {
   "cell_type": "code",
   "execution_count": 103,
   "metadata": {},
   "outputs": [
    {
     "name": "stdout",
     "output_type": "stream",
     "text": [
      "[('jhon', 'NN')]\n",
      "[('is', 'VBZ')]\n",
      "[('eating', 'VBG')]\n",
      "[('a', 'DT')]\n",
      "[('delicious', 'JJ')]\n",
      "[('cake', 'NN')]\n"
     ]
    }
   ],
   "source": [
    "for token in sent_tokens:\n",
    "    print(nltk.pos_tag([token]))"
   ]
  },
  {
   "cell_type": "code",
   "execution_count": 104,
   "metadata": {},
   "outputs": [],
   "source": [
    "#Named Entity Recognition is used to identify entity from the tokenization "
   ]
  },
  {
   "cell_type": "code",
   "execution_count": 105,
   "metadata": {},
   "outputs": [],
   "source": [
    "#Demonstration "
   ]
  },
  {
   "cell_type": "code",
   "execution_count": 106,
   "metadata": {},
   "outputs": [],
   "source": [
    "from nltk import ne_chunk"
   ]
  },
  {
   "cell_type": "code",
   "execution_count": 107,
   "metadata": {},
   "outputs": [],
   "source": [
    "NE_sent=\"The US President stays in the WHITE HOUSE\""
   ]
  },
  {
   "cell_type": "code",
   "execution_count": 108,
   "metadata": {},
   "outputs": [],
   "source": [
    "NE_tokens=word_tokenize(NE_sent)\n",
    "NE_tags=nltk.pos_tag(NE_tokens)"
   ]
  },
  {
   "cell_type": "code",
   "execution_count": 111,
   "metadata": {},
   "outputs": [
    {
     "name": "stdout",
     "output_type": "stream",
     "text": [
      "(S\n",
      "  The/DT\n",
      "  (ORGANIZATION US/NNP)\n",
      "  President/NNP\n",
      "  stays/VBZ\n",
      "  in/IN\n",
      "  the/DT\n",
      "  (FACILITY WHITE/NNP HOUSE/NNP))\n"
     ]
    }
   ],
   "source": [
    "NE_NER=ne_chunk(NE_tags)\n",
    "print(NE_NER)"
   ]
  },
  {
   "cell_type": "code",
   "execution_count": 112,
   "metadata": {},
   "outputs": [],
   "source": [
    "#chunking is picking up individual pieces of information and Grouping in to bigger pieces "
   ]
  },
  {
   "cell_type": "code",
   "execution_count": 116,
   "metadata": {},
   "outputs": [
    {
     "data": {
      "text/plain": [
       "[('The', 'DT'),\n",
       " ('big', 'JJ'),\n",
       " ('cat', 'NN'),\n",
       " ('ate', 'VBD'),\n",
       " ('the', 'DT'),\n",
       " ('little', 'JJ'),\n",
       " ('mouse', 'NN'),\n",
       " ('who', 'WP'),\n",
       " ('was', 'VBD'),\n",
       " ('after', 'IN'),\n",
       " ('fresh', 'JJ'),\n",
       " ('cheese', 'NN')]"
      ]
     },
     "execution_count": 116,
     "metadata": {},
     "output_type": "execute_result"
    }
   ],
   "source": [
    "new=\"The big cat ate the little mouse who was after fresh cheese\"\n",
    "new_token=nltk.pos_tag(word_tokenize(new))\n",
    "new_token"
   ]
  },
  {
   "cell_type": "code",
   "execution_count": 125,
   "metadata": {},
   "outputs": [],
   "source": [
    "grammer_np=r\"NP:{<DT>?<JJ>*<NN>}\""
   ]
  },
  {
   "cell_type": "code",
   "execution_count": 127,
   "metadata": {},
   "outputs": [],
   "source": [
    "chunk_parser=nltk.RegexpParser(grammer_np)"
   ]
  },
  {
   "cell_type": "code",
   "execution_count": 129,
   "metadata": {},
   "outputs": [
    {
     "name": "stdout",
     "output_type": "stream",
     "text": [
      "(S\n",
      "  (NP The/DT big/JJ cat/NN)\n",
      "  ate/VBD\n",
      "  (NP the/DT little/JJ mouse/NN)\n",
      "  who/WP\n",
      "  was/VBD\n",
      "  after/IN\n",
      "  (NP fresh/JJ cheese/NN))\n"
     ]
    }
   ],
   "source": [
    "chunk_result=chunk_parser.parse(new_token)\n",
    "print(chunk_result)"
   ]
  },
  {
   "cell_type": "code",
   "execution_count": 130,
   "metadata": {},
   "outputs": [],
   "source": [
    "# let's apply all in building machine learning classifier on the MOVIE_REVIEW on the NLTK corpora "
   ]
  },
  {
   "cell_type": "code",
   "execution_count": 163,
   "metadata": {},
   "outputs": [],
   "source": [
    "import pandas as pd \n",
    "import numpy as np"
   ]
  },
  {
   "cell_type": "code",
   "execution_count": 164,
   "metadata": {},
   "outputs": [],
   "source": [
    "from sklearn.feature_extraction.text import CountVectorizer"
   ]
  },
  {
   "cell_type": "code",
   "execution_count": 165,
   "metadata": {},
   "outputs": [
    {
     "name": "stdout",
     "output_type": "stream",
     "text": [
      "[u'cmudict', u'cmudict.zip', u'gazetteers', u'gazetteers.zip', u'genesis', u'genesis.zip', u'gutenberg', u'gutenberg.zip', u'inaugural', u'inaugural.zip', u'movie_reviews', u'movie_reviews.zip', u'names', u'names.zip', u'omw', u'omw.zip', u'shakespeare', u'shakespeare.zip', u'stopwords', u'stopwords.zip', u'treebank', u'treebank.zip', u'twitter_samples', u'twitter_samples.zip', u'wordnet', u'wordnet.zip', u'wordnet_ic', u'wordnet_ic.zip', u'words', u'words.zip']\n"
     ]
    }
   ],
   "source": [
    "print(os.listdir(nltk.data.find(\"corpora\")))"
   ]
  },
  {
   "cell_type": "code",
   "execution_count": 166,
   "metadata": {},
   "outputs": [],
   "source": [
    "from nltk.corpus import movie_reviews"
   ]
  },
  {
   "cell_type": "code",
   "execution_count": 167,
   "metadata": {
    "scrolled": true
   },
   "outputs": [
    {
     "name": "stdout",
     "output_type": "stream",
     "text": [
      "[u'neg', u'pos']\n"
     ]
    }
   ],
   "source": [
    "print(movie_reviews.categories())"
   ]
  },
  {
   "cell_type": "code",
   "execution_count": 168,
   "metadata": {},
   "outputs": [
    {
     "name": "stdout",
     "output_type": "stream",
     "text": [
      "[u'pos/cv000_29590.txt', u'pos/cv001_18431.txt', u'pos/cv002_15918.txt', u'pos/cv003_11664.txt', u'pos/cv004_11636.txt', u'pos/cv005_29443.txt', u'pos/cv006_15448.txt', u'pos/cv007_4968.txt', u'pos/cv008_29435.txt', u'pos/cv009_29592.txt', u'pos/cv010_29198.txt', u'pos/cv011_12166.txt', u'pos/cv012_29576.txt', u'pos/cv013_10159.txt', u'pos/cv014_13924.txt', u'pos/cv015_29439.txt', u'pos/cv016_4659.txt', u'pos/cv017_22464.txt', u'pos/cv018_20137.txt', u'pos/cv019_14482.txt', u'pos/cv020_8825.txt', u'pos/cv021_15838.txt', u'pos/cv022_12864.txt', u'pos/cv023_12672.txt', u'pos/cv024_6778.txt', u'pos/cv025_3108.txt', u'pos/cv026_29325.txt', u'pos/cv027_25219.txt', u'pos/cv028_26746.txt', u'pos/cv029_18643.txt', u'pos/cv030_21593.txt', u'pos/cv031_18452.txt', u'pos/cv032_22550.txt', u'pos/cv033_24444.txt', u'pos/cv034_29647.txt', u'pos/cv035_3954.txt', u'pos/cv036_16831.txt', u'pos/cv037_18510.txt', u'pos/cv038_9749.txt', u'pos/cv039_6170.txt', u'pos/cv040_8276.txt', u'pos/cv041_21113.txt', u'pos/cv042_10982.txt', u'pos/cv043_15013.txt', u'pos/cv044_16969.txt', u'pos/cv045_23923.txt', u'pos/cv046_10188.txt', u'pos/cv047_1754.txt', u'pos/cv048_16828.txt', u'pos/cv049_20471.txt', u'pos/cv050_11175.txt', u'pos/cv051_10306.txt', u'pos/cv052_29378.txt', u'pos/cv053_21822.txt', u'pos/cv054_4230.txt', u'pos/cv055_8338.txt', u'pos/cv056_13133.txt', u'pos/cv057_7453.txt', u'pos/cv058_8025.txt', u'pos/cv059_28885.txt', u'pos/cv060_10844.txt', u'pos/cv061_8837.txt', u'pos/cv062_23115.txt', u'pos/cv063_28997.txt', u'pos/cv064_24576.txt', u'pos/cv065_15248.txt', u'pos/cv066_10821.txt', u'pos/cv067_19774.txt', u'pos/cv068_13400.txt', u'pos/cv069_10801.txt', u'pos/cv070_12289.txt', u'pos/cv071_12095.txt', u'pos/cv072_6169.txt', u'pos/cv073_21785.txt', u'pos/cv074_6875.txt', u'pos/cv075_6500.txt', u'pos/cv076_24945.txt', u'pos/cv077_22138.txt', u'pos/cv078_14730.txt', u'pos/cv079_11933.txt', u'pos/cv080_13465.txt', u'pos/cv081_16582.txt', u'pos/cv082_11080.txt', u'pos/cv083_24234.txt', u'pos/cv084_13566.txt', u'pos/cv085_1381.txt', u'pos/cv086_18371.txt', u'pos/cv087_1989.txt', u'pos/cv088_24113.txt', u'pos/cv089_11418.txt', u'pos/cv090_0042.txt', u'pos/cv091_7400.txt', u'pos/cv092_28017.txt', u'pos/cv093_13951.txt', u'pos/cv094_27889.txt', u'pos/cv095_28892.txt', u'pos/cv096_11474.txt', u'pos/cv097_24970.txt', u'pos/cv098_15435.txt', u'pos/cv099_10534.txt', u'pos/cv100_11528.txt', u'pos/cv101_10175.txt', u'pos/cv102_7846.txt', u'pos/cv103_11021.txt', u'pos/cv104_18134.txt', u'pos/cv105_17990.txt', u'pos/cv106_16807.txt', u'pos/cv107_24319.txt', u'pos/cv108_15571.txt', u'pos/cv109_21172.txt', u'pos/cv110_27788.txt', u'pos/cv111_11473.txt', u'pos/cv112_11193.txt', u'pos/cv113_23102.txt', u'pos/cv114_18398.txt', u'pos/cv115_25396.txt', u'pos/cv116_28942.txt', u'pos/cv117_24295.txt', u'pos/cv118_28980.txt', u'pos/cv119_9867.txt', u'pos/cv120_4111.txt', u'pos/cv121_17302.txt', u'pos/cv122_7392.txt', u'pos/cv123_11182.txt', u'pos/cv124_4122.txt', u'pos/cv125_9391.txt', u'pos/cv126_28971.txt', u'pos/cv127_14711.txt', u'pos/cv128_29627.txt', u'pos/cv129_16741.txt', u'pos/cv130_17083.txt', u'pos/cv131_10713.txt', u'pos/cv132_5618.txt', u'pos/cv133_16336.txt', u'pos/cv134_22246.txt', u'pos/cv135_11603.txt', u'pos/cv136_11505.txt', u'pos/cv137_15422.txt', u'pos/cv138_12721.txt', u'pos/cv139_12873.txt', u'pos/cv140_7479.txt', u'pos/cv141_15686.txt', u'pos/cv142_22516.txt', u'pos/cv143_19666.txt', u'pos/cv144_5007.txt', u'pos/cv145_11472.txt', u'pos/cv146_18458.txt', u'pos/cv147_21193.txt', u'pos/cv148_16345.txt', u'pos/cv149_15670.txt', u'pos/cv150_12916.txt', u'pos/cv151_15771.txt', u'pos/cv152_8736.txt', u'pos/cv153_10779.txt', u'pos/cv154_9328.txt', u'pos/cv155_7308.txt', u'pos/cv156_10481.txt', u'pos/cv157_29372.txt', u'pos/cv158_10390.txt', u'pos/cv159_29505.txt', u'pos/cv160_10362.txt', u'pos/cv161_11425.txt', u'pos/cv162_10424.txt', u'pos/cv163_10052.txt', u'pos/cv164_22447.txt', u'pos/cv165_22619.txt', u'pos/cv166_11052.txt', u'pos/cv167_16376.txt', u'pos/cv168_7050.txt', u'pos/cv169_23778.txt', u'pos/cv170_3006.txt', u'pos/cv171_13537.txt', u'pos/cv172_11131.txt', u'pos/cv173_4471.txt', u'pos/cv174_9659.txt', u'pos/cv175_6964.txt', u'pos/cv176_12857.txt', u'pos/cv177_10367.txt', u'pos/cv178_12972.txt', u'pos/cv179_9228.txt', u'pos/cv180_16113.txt', u'pos/cv181_14401.txt', u'pos/cv182_7281.txt', u'pos/cv183_18612.txt', u'pos/cv184_2673.txt', u'pos/cv185_28654.txt', u'pos/cv186_2269.txt', u'pos/cv187_12829.txt', u'pos/cv188_19226.txt', u'pos/cv189_22934.txt', u'pos/cv190_27052.txt', u'pos/cv191_29719.txt', u'pos/cv192_14395.txt', u'pos/cv193_5416.txt', u'pos/cv194_12079.txt', u'pos/cv195_14528.txt', u'pos/cv196_29027.txt', u'pos/cv197_29328.txt', u'pos/cv198_18180.txt', u'pos/cv199_9629.txt', u'pos/cv200_2915.txt', u'pos/cv201_6997.txt', u'pos/cv202_10654.txt', u'pos/cv203_17986.txt', u'pos/cv204_8451.txt', u'pos/cv205_9457.txt', u'pos/cv206_14293.txt', u'pos/cv207_29284.txt', u'pos/cv208_9020.txt', u'pos/cv209_29118.txt', u'pos/cv210_9312.txt', u'pos/cv211_9953.txt', u'pos/cv212_10027.txt', u'pos/cv213_18934.txt', u'pos/cv214_12294.txt', u'pos/cv215_22240.txt', u'pos/cv216_18738.txt', u'pos/cv217_28842.txt', u'pos/cv218_24352.txt', u'pos/cv219_18626.txt', u'pos/cv220_29059.txt', u'pos/cv221_2695.txt', u'pos/cv222_17395.txt', u'pos/cv223_29066.txt', u'pos/cv224_17661.txt', u'pos/cv225_29224.txt', u'pos/cv226_2618.txt', u'pos/cv227_24215.txt', u'pos/cv228_5806.txt', u'pos/cv229_13611.txt', u'pos/cv230_7428.txt', u'pos/cv231_10425.txt', u'pos/cv232_14991.txt', u'pos/cv233_15964.txt', u'pos/cv234_20643.txt', u'pos/cv235_10217.txt', u'pos/cv236_11565.txt', u'pos/cv237_19221.txt', u'pos/cv238_12931.txt', u'pos/cv239_3385.txt', u'pos/cv240_14336.txt', u'pos/cv241_23130.txt', u'pos/cv242_10638.txt', u'pos/cv243_20728.txt', u'pos/cv244_21649.txt', u'pos/cv245_8569.txt', u'pos/cv246_28807.txt', u'pos/cv247_13142.txt', u'pos/cv248_13987.txt', u'pos/cv249_11640.txt', u'pos/cv250_25616.txt', u'pos/cv251_22636.txt', u'pos/cv252_23779.txt', u'pos/cv253_10077.txt', u'pos/cv254_6027.txt', u'pos/cv255_13683.txt', u'pos/cv256_14740.txt', u'pos/cv257_10975.txt', u'pos/cv258_5792.txt', u'pos/cv259_10934.txt', u'pos/cv260_13959.txt', u'pos/cv261_10954.txt', u'pos/cv262_12649.txt', u'pos/cv263_19259.txt', u'pos/cv264_12801.txt', u'pos/cv265_10814.txt', u'pos/cv266_25779.txt', u'pos/cv267_14952.txt', u'pos/cv268_18834.txt', u'pos/cv269_21732.txt', u'pos/cv270_6079.txt', u'pos/cv271_13837.txt', u'pos/cv272_18974.txt', u'pos/cv273_29112.txt', u'pos/cv274_25253.txt', u'pos/cv275_28887.txt', u'pos/cv276_15684.txt', u'pos/cv277_19091.txt', u'pos/cv278_13041.txt', u'pos/cv279_18329.txt', u'pos/cv280_8267.txt', u'pos/cv281_23253.txt', u'pos/cv282_6653.txt', u'pos/cv283_11055.txt', u'pos/cv284_19119.txt', u'pos/cv285_16494.txt', u'pos/cv286_25050.txt', u'pos/cv287_15900.txt', u'pos/cv288_18791.txt', u'pos/cv289_6463.txt', u'pos/cv290_11084.txt', u'pos/cv291_26635.txt', u'pos/cv292_7282.txt', u'pos/cv293_29856.txt', u'pos/cv294_11684.txt', u'pos/cv295_15570.txt', u'pos/cv296_12251.txt', u'pos/cv297_10047.txt', u'pos/cv298_23111.txt', u'pos/cv299_16214.txt', u'pos/cv300_22284.txt', u'pos/cv301_12146.txt', u'pos/cv302_25649.txt', u'pos/cv303_27520.txt', u'pos/cv304_28706.txt', u'pos/cv305_9946.txt', u'pos/cv306_10364.txt', u'pos/cv307_25270.txt', u'pos/cv308_5016.txt', u'pos/cv309_22571.txt', u'pos/cv310_13091.txt', u'pos/cv311_16002.txt', u'pos/cv312_29377.txt', u'pos/cv313_18198.txt', u'pos/cv314_14422.txt', u'pos/cv315_11629.txt', u'pos/cv316_6370.txt', u'pos/cv317_24049.txt', u'pos/cv318_10493.txt', u'pos/cv319_14727.txt', u'pos/cv320_9530.txt', u'pos/cv321_12843.txt', u'pos/cv322_20318.txt', u'pos/cv323_29805.txt', u'pos/cv324_7082.txt', u'pos/cv325_16629.txt', u'pos/cv326_13295.txt', u'pos/cv327_20292.txt', u'pos/cv328_10373.txt', u'pos/cv329_29370.txt', u'pos/cv330_29809.txt', u'pos/cv331_8273.txt', u'pos/cv332_16307.txt', u'pos/cv333_8916.txt', u'pos/cv334_10001.txt', u'pos/cv335_14665.txt', u'pos/cv336_10143.txt', u'pos/cv337_29181.txt', u'pos/cv338_8821.txt', u'pos/cv339_21119.txt', u'pos/cv340_13287.txt', u'pos/cv341_24430.txt', u'pos/cv342_19456.txt', u'pos/cv343_10368.txt', u'pos/cv344_5312.txt', u'pos/cv345_9954.txt', u'pos/cv346_18168.txt', u'pos/cv347_13194.txt', u'pos/cv348_18176.txt', u'pos/cv349_13507.txt', u'pos/cv350_20670.txt', u'pos/cv351_15458.txt', u'pos/cv352_5524.txt', u'pos/cv353_18159.txt', u'pos/cv354_8132.txt', u'pos/cv355_16413.txt', u'pos/cv356_25163.txt', u'pos/cv357_13156.txt', u'pos/cv358_10691.txt', u'pos/cv359_6647.txt', u'pos/cv360_8398.txt', u'pos/cv361_28944.txt', u'pos/cv362_15341.txt', u'pos/cv363_29332.txt', u'pos/cv364_12901.txt', u'pos/cv365_11576.txt', u'pos/cv366_10221.txt', u'pos/cv367_22792.txt', u'pos/cv368_10466.txt', u'pos/cv369_12886.txt', u'pos/cv370_5221.txt', u'pos/cv371_7630.txt', u'pos/cv372_6552.txt', u'pos/cv373_20404.txt', u'pos/cv374_25436.txt', u'pos/cv375_9929.txt', u'pos/cv376_19435.txt', u'pos/cv377_7946.txt', u'pos/cv378_20629.txt', u'pos/cv379_21963.txt', u'pos/cv380_7574.txt', u'pos/cv381_20172.txt', u'pos/cv382_7897.txt', u'pos/cv383_13116.txt', u'pos/cv384_17140.txt', u'pos/cv385_29741.txt', u'pos/cv386_10080.txt', u'pos/cv387_11507.txt', u'pos/cv388_12009.txt', u'pos/cv389_9369.txt', u'pos/cv390_11345.txt', u'pos/cv391_10802.txt', u'pos/cv392_11458.txt', u'pos/cv393_29327.txt', u'pos/cv394_5137.txt', u'pos/cv395_10849.txt', u'pos/cv396_17989.txt', u'pos/cv397_29023.txt', u'pos/cv398_15537.txt', u'pos/cv399_2877.txt', u'pos/cv400_19220.txt', u'pos/cv401_12605.txt', u'pos/cv402_14425.txt', u'pos/cv403_6621.txt', u'pos/cv404_20315.txt', u'pos/cv405_20399.txt', u'pos/cv406_21020.txt', u'pos/cv407_22637.txt', u'pos/cv408_5297.txt', u'pos/cv409_29786.txt', u'pos/cv410_24266.txt', u'pos/cv411_15007.txt', u'pos/cv412_24095.txt', u'pos/cv413_7398.txt', u'pos/cv414_10518.txt', u'pos/cv415_22517.txt', u'pos/cv416_11136.txt', u'pos/cv417_13115.txt', u'pos/cv418_14774.txt', u'pos/cv419_13394.txt', u'pos/cv420_28795.txt', u'pos/cv421_9709.txt', u'pos/cv422_9381.txt', u'pos/cv423_11155.txt', u'pos/cv424_8831.txt', u'pos/cv425_8250.txt', u'pos/cv426_10421.txt', u'pos/cv427_10825.txt', u'pos/cv428_11347.txt', u'pos/cv429_7439.txt', u'pos/cv430_17351.txt', u'pos/cv431_7085.txt', u'pos/cv432_14224.txt', u'pos/cv433_10144.txt', u'pos/cv434_5793.txt', u'pos/cv435_23110.txt', u'pos/cv436_19179.txt', u'pos/cv437_22849.txt', u'pos/cv438_8043.txt', u'pos/cv439_15970.txt', u'pos/cv440_15243.txt', u'pos/cv441_13711.txt', u'pos/cv442_13846.txt', u'pos/cv443_21118.txt', u'pos/cv444_9974.txt', u'pos/cv445_25882.txt', u'pos/cv446_11353.txt', u'pos/cv447_27332.txt', u'pos/cv448_14695.txt', u'pos/cv449_8785.txt', u'pos/cv450_7890.txt', u'pos/cv451_10690.txt', u'pos/cv452_5088.txt', u'pos/cv453_10379.txt', u'pos/cv454_2053.txt', u'pos/cv455_29000.txt', u'pos/cv456_18985.txt', u'pos/cv457_18453.txt', u'pos/cv458_8604.txt', u'pos/cv459_20319.txt', u'pos/cv460_10842.txt', u'pos/cv461_19600.txt', u'pos/cv462_19350.txt', u'pos/cv463_10343.txt', u'pos/cv464_15650.txt', u'pos/cv465_22431.txt', u'pos/cv466_18722.txt', u'pos/cv467_25773.txt', u'pos/cv468_15228.txt', u'pos/cv469_20630.txt', u'pos/cv470_15952.txt', u'pos/cv471_16858.txt', u'pos/cv472_29280.txt', u'pos/cv473_7367.txt', u'pos/cv474_10209.txt', u'pos/cv475_21692.txt', u'pos/cv476_16856.txt', u'pos/cv477_22479.txt', u'pos/cv478_14309.txt', u'pos/cv479_5649.txt', u'pos/cv480_19817.txt', u'pos/cv481_7436.txt', u'pos/cv482_10580.txt', u'pos/cv483_16378.txt', u'pos/cv484_25054.txt', u'pos/cv485_26649.txt', u'pos/cv486_9799.txt', u'pos/cv487_10446.txt', u'pos/cv488_19856.txt', u'pos/cv489_17906.txt', u'pos/cv490_17872.txt', u'pos/cv491_12145.txt', u'pos/cv492_18271.txt', u'pos/cv493_12839.txt', u'pos/cv494_17389.txt', u'pos/cv495_14518.txt', u'pos/cv496_10530.txt', u'pos/cv497_26980.txt', u'pos/cv498_8832.txt', u'pos/cv499_10658.txt', u'pos/cv500_10251.txt', u'pos/cv501_11657.txt', u'pos/cv502_10406.txt', u'pos/cv503_10558.txt', u'pos/cv504_29243.txt', u'pos/cv505_12090.txt', u'pos/cv506_15956.txt', u'pos/cv507_9220.txt', u'pos/cv508_16006.txt', u'pos/cv509_15888.txt', u'pos/cv510_23360.txt', u'pos/cv511_10132.txt', u'pos/cv512_15965.txt', u'pos/cv513_6923.txt', u'pos/cv514_11187.txt', u'pos/cv515_17069.txt', u'pos/cv516_11172.txt', u'pos/cv517_19219.txt', u'pos/cv518_13331.txt', u'pos/cv519_14661.txt', u'pos/cv520_12295.txt', u'pos/cv521_15828.txt', u'pos/cv522_5583.txt', u'pos/cv523_16615.txt', u'pos/cv524_23627.txt', u'pos/cv525_16122.txt', u'pos/cv526_12083.txt', u'pos/cv527_10123.txt', u'pos/cv528_10822.txt', u'pos/cv529_10420.txt', u'pos/cv530_16212.txt', u'pos/cv531_26486.txt', u'pos/cv532_6522.txt', u'pos/cv533_9821.txt', u'pos/cv534_14083.txt', u'pos/cv535_19728.txt', u'pos/cv536_27134.txt', u'pos/cv537_12370.txt', u'pos/cv538_28667.txt', u'pos/cv539_20347.txt', u'pos/cv540_3421.txt', u'pos/cv541_28835.txt', u'pos/cv542_18980.txt', u'pos/cv543_5045.txt', u'pos/cv544_5108.txt', u'pos/cv545_12014.txt', u'pos/cv546_11767.txt', u'pos/cv547_16324.txt', u'pos/cv548_17731.txt', u'pos/cv549_21443.txt', u'pos/cv550_22211.txt', u'pos/cv551_10565.txt', u'pos/cv552_10016.txt', u'pos/cv553_26915.txt', u'pos/cv554_13151.txt', u'pos/cv555_23922.txt', u'pos/cv556_14808.txt', u'pos/cv557_11449.txt', u'pos/cv558_29507.txt', u'pos/cv559_0050.txt', u'pos/cv560_17175.txt', u'pos/cv561_9201.txt', u'pos/cv562_10359.txt', u'pos/cv563_17257.txt', u'pos/cv564_11110.txt', u'pos/cv565_29572.txt', u'pos/cv566_8581.txt', u'pos/cv567_29611.txt', u'pos/cv568_15638.txt', u'pos/cv569_26381.txt', u'pos/cv570_29082.txt', u'pos/cv571_29366.txt', u'pos/cv572_18657.txt', u'pos/cv573_29525.txt', u'pos/cv574_22156.txt', u'pos/cv575_21150.txt', u'pos/cv576_14094.txt', u'pos/cv577_28549.txt', u'pos/cv578_15094.txt', u'pos/cv579_11605.txt', u'pos/cv580_14064.txt', u'pos/cv581_19381.txt', u'pos/cv582_6559.txt', u'pos/cv583_29692.txt', u'pos/cv584_29722.txt', u'pos/cv585_22496.txt', u'pos/cv586_7543.txt', u'pos/cv587_19162.txt', u'pos/cv588_13008.txt', u'pos/cv589_12064.txt', u'pos/cv590_19290.txt', u'pos/cv591_23640.txt', u'pos/cv592_22315.txt', u'pos/cv593_10987.txt', u'pos/cv594_11039.txt', u'pos/cv595_25335.txt', u'pos/cv596_28311.txt', u'pos/cv597_26360.txt', u'pos/cv598_16452.txt', u'pos/cv599_20988.txt', u'pos/cv600_23878.txt', u'pos/cv601_23453.txt', u'pos/cv602_8300.txt', u'pos/cv603_17694.txt', u'pos/cv604_2230.txt', u'pos/cv605_11800.txt', u'pos/cv606_15985.txt', u'pos/cv607_7717.txt', u'pos/cv608_23231.txt', u'pos/cv609_23877.txt', u'pos/cv610_2287.txt', u'pos/cv611_21120.txt', u'pos/cv612_5461.txt', u'pos/cv613_21796.txt', u'pos/cv614_10626.txt', u'pos/cv615_14182.txt', u'pos/cv616_29319.txt', u'pos/cv617_9322.txt', u'pos/cv618_8974.txt', u'pos/cv619_12462.txt', u'pos/cv620_24265.txt', u'pos/cv621_14368.txt', u'pos/cv622_8147.txt', u'pos/cv623_15356.txt', u'pos/cv624_10744.txt', u'pos/cv625_12440.txt', u'pos/cv626_7410.txt', u'pos/cv627_11620.txt', u'pos/cv628_19325.txt', u'pos/cv629_14909.txt', u'pos/cv630_10057.txt', u'pos/cv631_4967.txt', u'pos/cv632_9610.txt', u'pos/cv633_29837.txt', u'pos/cv634_11101.txt', u'pos/cv635_10022.txt', u'pos/cv636_15279.txt', u'pos/cv637_1250.txt', u'pos/cv638_2953.txt', u'pos/cv639_10308.txt', u'pos/cv640_5378.txt', u'pos/cv641_12349.txt', u'pos/cv642_29867.txt', u'pos/cv643_29349.txt', u'pos/cv644_17154.txt', u'pos/cv645_15668.txt', u'pos/cv646_15065.txt', u'pos/cv647_13691.txt', u'pos/cv648_15792.txt', u'pos/cv649_12735.txt', u'pos/cv650_14340.txt', u'pos/cv651_10492.txt', u'pos/cv652_13972.txt', u'pos/cv653_19583.txt', u'pos/cv654_18246.txt', u'pos/cv655_11154.txt', u'pos/cv656_24201.txt', u'pos/cv657_24513.txt', u'pos/cv658_10532.txt', u'pos/cv659_19944.txt', u'pos/cv660_21893.txt', u'pos/cv661_2450.txt', u'pos/cv662_13320.txt', u'pos/cv663_13019.txt', u'pos/cv664_4389.txt', u'pos/cv665_29538.txt', u'pos/cv666_18963.txt', u'pos/cv667_18467.txt', u'pos/cv668_17604.txt', u'pos/cv669_22995.txt', u'pos/cv670_25826.txt', u'pos/cv671_5054.txt', u'pos/cv672_28083.txt', u'pos/cv673_24714.txt', u'pos/cv674_10732.txt', u'pos/cv675_21588.txt', u'pos/cv676_21090.txt', u'pos/cv677_17715.txt', u'pos/cv678_13419.txt', u'pos/cv679_28559.txt', u'pos/cv680_10160.txt', u'pos/cv681_9692.txt', u'pos/cv682_16139.txt', u'pos/cv683_12167.txt', u'pos/cv684_11798.txt', u'pos/cv685_5947.txt', u'pos/cv686_13900.txt', u'pos/cv687_21100.txt', u'pos/cv688_7368.txt', u'pos/cv689_12587.txt', u'pos/cv690_5619.txt', u'pos/cv691_5043.txt', u'pos/cv692_15451.txt', u'pos/cv693_18063.txt', u'pos/cv694_4876.txt', u'pos/cv695_21108.txt', u'pos/cv696_29740.txt', u'pos/cv697_11162.txt', u'pos/cv698_15253.txt', u'pos/cv699_7223.txt', u'pos/cv700_21947.txt', u'pos/cv701_14252.txt', u'pos/cv702_11500.txt', u'pos/cv703_16143.txt', u'pos/cv704_15969.txt', u'pos/cv705_11059.txt', u'pos/cv706_24716.txt', u'pos/cv707_10678.txt', u'pos/cv708_28729.txt', u'pos/cv709_10529.txt', u'pos/cv710_22577.txt', u'pos/cv711_11665.txt', u'pos/cv712_22920.txt', u'pos/cv713_29155.txt', u'pos/cv714_18502.txt', u'pos/cv715_18179.txt', u'pos/cv716_10514.txt', u'pos/cv717_15953.txt', u'pos/cv718_11434.txt', u'pos/cv719_5713.txt', u'pos/cv720_5389.txt', u'pos/cv721_29121.txt', u'pos/cv722_7110.txt', u'pos/cv723_8648.txt', u'pos/cv724_13681.txt', u'pos/cv725_10103.txt', u'pos/cv726_4719.txt', u'pos/cv727_4978.txt', u'pos/cv728_16133.txt', u'pos/cv729_10154.txt', u'pos/cv730_10279.txt', u'pos/cv731_4136.txt', u'pos/cv732_12245.txt', u'pos/cv733_9839.txt', u'pos/cv734_21568.txt', u'pos/cv735_18801.txt', u'pos/cv736_23670.txt', u'pos/cv737_28907.txt', u'pos/cv738_10116.txt', u'pos/cv739_11209.txt', u'pos/cv740_12445.txt', u'pos/cv741_11890.txt', u'pos/cv742_7751.txt', u'pos/cv743_15449.txt', u'pos/cv744_10038.txt', u'pos/cv745_12773.txt', u'pos/cv746_10147.txt', u'pos/cv747_16556.txt', u'pos/cv748_12786.txt', u'pos/cv749_17765.txt', u'pos/cv750_10180.txt', u'pos/cv751_15719.txt', u'pos/cv752_24155.txt', u'pos/cv753_10875.txt', u'pos/cv754_7216.txt', u'pos/cv755_23616.txt', u'pos/cv756_22540.txt', u'pos/cv757_10189.txt', u'pos/cv758_9671.txt', u'pos/cv759_13522.txt', u'pos/cv760_8597.txt', u'pos/cv761_12620.txt', u'pos/cv762_13927.txt', u'pos/cv763_14729.txt', u'pos/cv764_11739.txt', u'pos/cv765_19037.txt', u'pos/cv766_7540.txt', u'pos/cv767_14062.txt', u'pos/cv768_11751.txt', u'pos/cv769_8123.txt', u'pos/cv770_10451.txt', u'pos/cv771_28665.txt', u'pos/cv772_12119.txt', u'pos/cv773_18817.txt', u'pos/cv774_13845.txt', u'pos/cv775_16237.txt', u'pos/cv776_20529.txt', u'pos/cv777_10094.txt', u'pos/cv778_17330.txt', u'pos/cv779_17881.txt', u'pos/cv780_7984.txt', u'pos/cv781_5262.txt', u'pos/cv782_19526.txt', u'pos/cv783_13227.txt', u'pos/cv784_14394.txt', u'pos/cv785_22600.txt', u'pos/cv786_22497.txt', u'pos/cv787_13743.txt', u'pos/cv788_25272.txt', u'pos/cv789_12136.txt', u'pos/cv790_14600.txt', u'pos/cv791_16302.txt', u'pos/cv792_3832.txt', u'pos/cv793_13650.txt', u'pos/cv794_15868.txt', u'pos/cv795_10122.txt', u'pos/cv796_15782.txt', u'pos/cv797_6957.txt', u'pos/cv798_23531.txt', u'pos/cv799_18543.txt', u'pos/cv800_12368.txt', u'pos/cv801_25228.txt', u'pos/cv802_28664.txt', u'pos/cv803_8207.txt', u'pos/cv804_10862.txt', u'pos/cv805_19601.txt', u'pos/cv806_8842.txt', u'pos/cv807_21740.txt', u'pos/cv808_12635.txt', u'pos/cv809_5009.txt', u'pos/cv810_12458.txt', u'pos/cv811_21386.txt', u'pos/cv812_17924.txt', u'pos/cv813_6534.txt', u'pos/cv814_18975.txt', u'pos/cv815_22456.txt', u'pos/cv816_13655.txt', u'pos/cv817_4041.txt', u'pos/cv818_10211.txt', u'pos/cv819_9364.txt', u'pos/cv820_22892.txt', u'pos/cv821_29364.txt', u'pos/cv822_20049.txt', u'pos/cv823_15569.txt', u'pos/cv824_8838.txt', u'pos/cv825_5063.txt', u'pos/cv826_11834.txt', u'pos/cv827_18331.txt', u'pos/cv828_19831.txt', u'pos/cv829_20289.txt', u'pos/cv830_6014.txt', u'pos/cv831_14689.txt', u'pos/cv832_23275.txt', u'pos/cv833_11053.txt', u'pos/cv834_22195.txt', u'pos/cv835_19159.txt', u'pos/cv836_12968.txt', u'pos/cv837_27325.txt', u'pos/cv838_24728.txt', u'pos/cv839_21467.txt', u'pos/cv840_16321.txt', u'pos/cv841_3967.txt', u'pos/cv842_5866.txt', u'pos/cv843_15544.txt', u'pos/cv844_12690.txt', u'pos/cv845_14290.txt', u'pos/cv846_29497.txt', u'pos/cv847_1941.txt', u'pos/cv848_10036.txt', u'pos/cv849_15729.txt', u'pos/cv850_16466.txt', u'pos/cv851_20469.txt', u'pos/cv852_27523.txt', u'pos/cv853_29233.txt', u'pos/cv854_17740.txt', u'pos/cv855_20661.txt', u'pos/cv856_29013.txt', u'pos/cv857_15958.txt', u'pos/cv858_18819.txt', u'pos/cv859_14107.txt', u'pos/cv860_13853.txt', u'pos/cv861_1198.txt', u'pos/cv862_14324.txt', u'pos/cv863_7424.txt', u'pos/cv864_3416.txt', u'pos/cv865_2895.txt', u'pos/cv866_29691.txt', u'pos/cv867_16661.txt', u'pos/cv868_11948.txt', u'pos/cv869_23611.txt', u'pos/cv870_16348.txt', u'pos/cv871_24888.txt', u'pos/cv872_12591.txt', u'pos/cv873_18636.txt', u'pos/cv874_11236.txt', u'pos/cv875_5754.txt', u'pos/cv876_9390.txt', u'pos/cv877_29274.txt', u'pos/cv878_15694.txt', u'pos/cv879_14903.txt', u'pos/cv880_29800.txt', u'pos/cv881_13254.txt', u'pos/cv882_10026.txt', u'pos/cv883_27751.txt', u'pos/cv884_13632.txt', u'pos/cv885_12318.txt', u'pos/cv886_18177.txt', u'pos/cv887_5126.txt', u'pos/cv888_24435.txt', u'pos/cv889_21430.txt', u'pos/cv890_3977.txt', u'pos/cv891_6385.txt', u'pos/cv892_17576.txt', u'pos/cv893_26269.txt', u'pos/cv894_2068.txt', u'pos/cv895_21022.txt', u'pos/cv896_16071.txt', u'pos/cv897_10837.txt', u'pos/cv898_14187.txt', u'pos/cv899_16014.txt', u'pos/cv900_10331.txt', u'pos/cv901_11017.txt', u'pos/cv902_12256.txt', u'pos/cv903_17822.txt', u'pos/cv904_24353.txt', u'pos/cv905_29114.txt', u'pos/cv906_11491.txt', u'pos/cv907_3541.txt', u'pos/cv908_16009.txt', u'pos/cv909_9960.txt', u'pos/cv910_20488.txt', u'pos/cv911_20260.txt', u'pos/cv912_5674.txt', u'pos/cv913_29252.txt', u'pos/cv914_28742.txt', u'pos/cv915_8841.txt', u'pos/cv916_15467.txt', u'pos/cv917_29715.txt', u'pos/cv918_2693.txt', u'pos/cv919_16380.txt', u'pos/cv920_29622.txt', u'pos/cv921_12747.txt', u'pos/cv922_10073.txt', u'pos/cv923_11051.txt', u'pos/cv924_29540.txt', u'pos/cv925_8969.txt', u'pos/cv926_17059.txt', u'pos/cv927_10681.txt', u'pos/cv928_9168.txt', u'pos/cv929_16908.txt', u'pos/cv930_13475.txt', u'pos/cv931_17563.txt', u'pos/cv932_13401.txt', u'pos/cv933_23776.txt', u'pos/cv934_19027.txt', u'pos/cv935_23841.txt', u'pos/cv936_15954.txt', u'pos/cv937_9811.txt', u'pos/cv938_10220.txt', u'pos/cv939_10583.txt', u'pos/cv940_17705.txt', u'pos/cv941_10246.txt', u'pos/cv942_17082.txt', u'pos/cv943_22488.txt', u'pos/cv944_13521.txt', u'pos/cv945_12160.txt', u'pos/cv946_18658.txt', u'pos/cv947_10601.txt', u'pos/cv948_24606.txt', u'pos/cv949_20112.txt', u'pos/cv950_12350.txt', u'pos/cv951_10926.txt', u'pos/cv952_25240.txt', u'pos/cv953_6836.txt', u'pos/cv954_18628.txt', u'pos/cv955_25001.txt', u'pos/cv956_11609.txt', u'pos/cv957_8737.txt', u'pos/cv958_12162.txt', u'pos/cv959_14611.txt', u'pos/cv960_29007.txt', u'pos/cv961_5682.txt', u'pos/cv962_9803.txt', u'pos/cv963_6895.txt', u'pos/cv964_6021.txt', u'pos/cv965_26071.txt', u'pos/cv966_28832.txt', u'pos/cv967_5788.txt', u'pos/cv968_24218.txt', u'pos/cv969_13250.txt', u'pos/cv970_18450.txt', u'pos/cv971_10874.txt', u'pos/cv972_26417.txt', u'pos/cv973_10066.txt', u'pos/cv974_22941.txt', u'pos/cv975_10981.txt', u'pos/cv976_10267.txt', u'pos/cv977_4938.txt', u'pos/cv978_20929.txt', u'pos/cv979_18921.txt', u'pos/cv980_10953.txt', u'pos/cv981_14989.txt', u'pos/cv982_21103.txt', u'pos/cv983_22928.txt', u'pos/cv984_12767.txt', u'pos/cv985_6359.txt', u'pos/cv986_13527.txt', u'pos/cv987_6965.txt', u'pos/cv988_18740.txt', u'pos/cv989_15824.txt', u'pos/cv990_11591.txt', u'pos/cv991_18645.txt', u'pos/cv992_11962.txt', u'pos/cv993_29737.txt', u'pos/cv994_12270.txt', u'pos/cv995_21821.txt', u'pos/cv996_11592.txt', u'pos/cv997_5046.txt', u'pos/cv998_14111.txt', u'pos/cv999_13106.txt']\n"
     ]
    }
   ],
   "source": [
    "print(movie_reviews.fileids('pos'))"
   ]
  },
  {
   "cell_type": "code",
   "execution_count": 169,
   "metadata": {},
   "outputs": [
    {
     "data": {
      "text/plain": [
       "1000"
      ]
     },
     "execution_count": 169,
     "metadata": {},
     "output_type": "execute_result"
    }
   ],
   "source": [
    "neg_review=movie_reviews.fileids('neg')\n",
    "len(neg_review)"
   ]
  },
  {
   "cell_type": "code",
   "execution_count": 170,
   "metadata": {},
   "outputs": [
    {
     "data": {
      "text/plain": [
       "1000"
      ]
     },
     "execution_count": 170,
     "metadata": {},
     "output_type": "execute_result"
    }
   ],
   "source": [
    "pos_review=movie_reviews.fileids('pos')\n",
    "len(pos_review)"
   ]
  },
  {
   "cell_type": "code",
   "execution_count": 171,
   "metadata": {},
   "outputs": [
    {
     "data": {
      "text/plain": [
       "[u'films', u'adapted', u'from', u'comic', u'books', ...]"
      ]
     },
     "execution_count": 171,
     "metadata": {},
     "output_type": "execute_result"
    }
   ],
   "source": [
    "rev=nltk.corpus.movie_reviews.words(u'pos/cv000_29590.txt')\n",
    "rev"
   ]
  },
  {
   "cell_type": "code",
   "execution_count": 182,
   "metadata": {},
   "outputs": [],
   "source": [
    "rev_list1=[]"
   ]
  },
  {
   "cell_type": "code",
   "execution_count": 183,
   "metadata": {},
   "outputs": [],
   "source": [
    "for rev in neg_review:\n",
    "    rev_text_neg=rev=nltk.corpus.movie_reviews.words(rev)\n",
    "    review_one_string=\" \".join(rev_text_neg)\n",
    "    review_one_string=review_one_string.replace(' ,',',')\n",
    "    review_one_string=review_one_string.replace(' .','.')\n",
    "    review_one_string=review_one_string.replace(\"\\' \",\"'\")\n",
    "    review_one_string=review_one_string.replace(\" \\'\",\"'\")\n",
    "    rev_list1.append(review_one_string)"
   ]
  },
  {
   "cell_type": "code",
   "execution_count": 184,
   "metadata": {
    "scrolled": true
   },
   "outputs": [
    {
     "data": {
      "text/plain": [
       "1000"
      ]
     },
     "execution_count": 184,
     "metadata": {},
     "output_type": "execute_result"
    }
   ],
   "source": [
    "len(rev_list1)"
   ]
  },
  {
   "cell_type": "code",
   "execution_count": 175,
   "metadata": {},
   "outputs": [],
   "source": [
    "pos_review=movie_reviews.fileids('pos')"
   ]
  },
  {
   "cell_type": "code",
   "execution_count": 185,
   "metadata": {},
   "outputs": [],
   "source": [
    "for rev_pos in pos_review:\n",
    "    rev_text_pos=nltk.corpus.movie_reviews.words(rev_pos)\n",
    "    review_one_string=\" \".join(rev_text_pos)\n",
    "    review_one_string=review_one_string.replace(' ,',',')\n",
    "    review_one_string=review_one_string.replace(' .','.')\n",
    "    review_one_string=review_one_string.replace(\"\\' \",\"'\")\n",
    "    review_one_string=review_one_string.replace(\" \\'\",\"'\")\n",
    "    rev_list1.append(review_one_string)"
   ]
  },
  {
   "cell_type": "code",
   "execution_count": 186,
   "metadata": {},
   "outputs": [
    {
     "data": {
      "text/plain": [
       "2000"
      ]
     },
     "execution_count": 186,
     "metadata": {},
     "output_type": "execute_result"
    }
   ],
   "source": [
    "len(rev_list1)"
   ]
  },
  {
   "cell_type": "code",
   "execution_count": 188,
   "metadata": {},
   "outputs": [],
   "source": [
    "neg_targets=np.zeros((1000,),dtype=np.int)\n",
    "pos_targets=np.ones((1000,),dtype=np.int)"
   ]
  },
  {
   "cell_type": "code",
   "execution_count": 190,
   "metadata": {},
   "outputs": [],
   "source": [
    "target_list=[]\n",
    "for neg_tar in neg_targets:\n",
    "    target_list.append(neg_tar)\n",
    "for pos_tar in pos_targets:\n",
    "    target_list.append(pos_tar)"
   ]
  },
  {
   "cell_type": "code",
   "execution_count": 191,
   "metadata": {},
   "outputs": [
    {
     "data": {
      "text/plain": [
       "2000"
      ]
     },
     "execution_count": 191,
     "metadata": {},
     "output_type": "execute_result"
    }
   ],
   "source": [
    "len(target_list)"
   ]
  },
  {
   "cell_type": "code",
   "execution_count": 193,
   "metadata": {},
   "outputs": [],
   "source": [
    "y=pd.Series(target_list)"
   ]
  },
  {
   "cell_type": "code",
   "execution_count": 194,
   "metadata": {},
   "outputs": [
    {
     "data": {
      "text/plain": [
       "pandas.core.series.Series"
      ]
     },
     "execution_count": 194,
     "metadata": {},
     "output_type": "execute_result"
    }
   ],
   "source": [
    "type(y)"
   ]
  },
  {
   "cell_type": "code",
   "execution_count": 195,
   "metadata": {},
   "outputs": [
    {
     "data": {
      "text/plain": [
       "0    0\n",
       "1    0\n",
       "2    0\n",
       "3    0\n",
       "4    0\n",
       "dtype: int64"
      ]
     },
     "execution_count": 195,
     "metadata": {},
     "output_type": "execute_result"
    }
   ],
   "source": [
    "y.head()"
   ]
  },
  {
   "cell_type": "code",
   "execution_count": 196,
   "metadata": {},
   "outputs": [],
   "source": [
    "#start creating feature using count vectorizer"
   ]
  },
  {
   "cell_type": "code",
   "execution_count": 198,
   "metadata": {},
   "outputs": [],
   "source": [
    "from sklearn.feature_extraction.text import CountVectorizer"
   ]
  },
  {
   "cell_type": "code",
   "execution_count": 199,
   "metadata": {},
   "outputs": [],
   "source": [
    "count_vect=CountVectorizer(lowercase=True,stop_words='english',min_df=2)"
   ]
  },
  {
   "cell_type": "code",
   "execution_count": 200,
   "metadata": {},
   "outputs": [],
   "source": [
    "x_count_vect=count_vect.fit_transform(rev_list1)"
   ]
  },
  {
   "cell_type": "code",
   "execution_count": 201,
   "metadata": {},
   "outputs": [
    {
     "data": {
      "text/plain": [
       "(2000, 23784)"
      ]
     },
     "execution_count": 201,
     "metadata": {},
     "output_type": "execute_result"
    }
   ],
   "source": [
    "x_count_vect.shape"
   ]
  },
  {
   "cell_type": "code",
   "execution_count": 202,
   "metadata": {},
   "outputs": [
    {
     "data": {
      "text/plain": [
       "[u'00',\n",
       " u'000',\n",
       " u'007',\n",
       " u'05',\n",
       " u'10',\n",
       " u'100',\n",
       " u'1000',\n",
       " u'100m',\n",
       " u'101',\n",
       " u'102',\n",
       " u'103',\n",
       " u'105',\n",
       " u'106',\n",
       " u'107',\n",
       " u'108',\n",
       " u'10th',\n",
       " u'11',\n",
       " u'110',\n",
       " u'113',\n",
       " u'115',\n",
       " u'11th',\n",
       " u'12',\n",
       " u'126',\n",
       " u'129',\n",
       " u'13',\n",
       " u'130',\n",
       " u'132',\n",
       " u'137',\n",
       " u'13th',\n",
       " u'14',\n",
       " u'14th',\n",
       " u'15',\n",
       " u'150',\n",
       " u'1500s',\n",
       " u'155',\n",
       " u'15th',\n",
       " u'16',\n",
       " u'160',\n",
       " u'1600',\n",
       " u'161',\n",
       " u'16mm',\n",
       " u'16th',\n",
       " u'16x9',\n",
       " u'17',\n",
       " u'175',\n",
       " u'1773',\n",
       " u'17th',\n",
       " u'18',\n",
       " u'180',\n",
       " u'1800s',\n",
       " u'1839',\n",
       " u'1869',\n",
       " u'1871',\n",
       " u'1888',\n",
       " u'18th',\n",
       " u'19',\n",
       " u'1900',\n",
       " u'1912',\n",
       " u'1914',\n",
       " u'1919',\n",
       " u'1925',\n",
       " u'1928',\n",
       " u'1930',\n",
       " u'1930s',\n",
       " u'1932',\n",
       " u'1933',\n",
       " u'1935',\n",
       " u'1937',\n",
       " u'1938',\n",
       " u'1939',\n",
       " u'1940',\n",
       " u'1940s',\n",
       " u'1941',\n",
       " u'1943',\n",
       " u'1944',\n",
       " u'1945',\n",
       " u'1947',\n",
       " u'1948',\n",
       " u'1949',\n",
       " u'1950',\n",
       " u'1950s',\n",
       " u'1953',\n",
       " u'1954',\n",
       " u'1957',\n",
       " u'1958',\n",
       " u'1959',\n",
       " u'1960',\n",
       " u'1960s',\n",
       " u'1961',\n",
       " u'1962',\n",
       " u'1963',\n",
       " u'1964',\n",
       " u'1965',\n",
       " u'1966',\n",
       " u'1967',\n",
       " u'1968',\n",
       " u'1969',\n",
       " u'1970',\n",
       " u'1970s',\n",
       " u'1971',\n",
       " u'1972',\n",
       " u'1973',\n",
       " u'1974',\n",
       " u'1975',\n",
       " u'1976',\n",
       " u'1977',\n",
       " u'1978',\n",
       " u'1979',\n",
       " u'1980',\n",
       " u'1980s',\n",
       " u'1981',\n",
       " u'1982',\n",
       " u'1983',\n",
       " u'1984',\n",
       " u'1985',\n",
       " u'1986',\n",
       " u'1987',\n",
       " u'1988',\n",
       " u'1989',\n",
       " u'1990',\n",
       " u'1990s',\n",
       " u'1991',\n",
       " u'1992',\n",
       " u'1993',\n",
       " u'1994',\n",
       " u'1995',\n",
       " u'1996',\n",
       " u'1997',\n",
       " u'1998',\n",
       " u'1998s',\n",
       " u'1999',\n",
       " u'19th',\n",
       " u'1st',\n",
       " u'20',\n",
       " u'200',\n",
       " u'2000',\n",
       " u'2001',\n",
       " u'2013',\n",
       " u'2017',\n",
       " u'2020',\n",
       " u'2029',\n",
       " u'2050',\n",
       " u'2058',\n",
       " u'20s',\n",
       " u'20th',\n",
       " u'21',\n",
       " u'2176',\n",
       " u'21st',\n",
       " u'22',\n",
       " u'23',\n",
       " u'24',\n",
       " u'2400',\n",
       " u'24th',\n",
       " u'25',\n",
       " u'250',\n",
       " u'25th',\n",
       " u'26',\n",
       " u'26th',\n",
       " u'27',\n",
       " u'28',\n",
       " u'29',\n",
       " u'2d',\n",
       " u'2nd',\n",
       " u'30',\n",
       " u'300',\n",
       " u'3000',\n",
       " u'30th',\n",
       " u'31',\n",
       " u'32',\n",
       " u'33',\n",
       " u'35',\n",
       " u'35mm',\n",
       " u'36',\n",
       " u'360',\n",
       " u'37',\n",
       " u'39',\n",
       " u'3d',\n",
       " u'3po',\n",
       " u'3rd',\n",
       " u'40',\n",
       " u'400',\n",
       " u'40s',\n",
       " u'41',\n",
       " u'42',\n",
       " u'43',\n",
       " u'44',\n",
       " u'45',\n",
       " u'47',\n",
       " u'48',\n",
       " u'48th',\n",
       " u'4th',\n",
       " u'50',\n",
       " u'500',\n",
       " u'5000',\n",
       " u'50s',\n",
       " u'51',\n",
       " u'52',\n",
       " u'53',\n",
       " u'54',\n",
       " u'55',\n",
       " u'56',\n",
       " u'57',\n",
       " u'571',\n",
       " u'58',\n",
       " u'5th',\n",
       " u'60',\n",
       " u'600',\n",
       " u'6000',\n",
       " u'607',\n",
       " u'60s',\n",
       " u'61',\n",
       " u'63',\n",
       " u'64',\n",
       " u'65',\n",
       " u'66',\n",
       " u'666',\n",
       " u'69',\n",
       " u'6th',\n",
       " u'70',\n",
       " u'700',\n",
       " u'70mm',\n",
       " u'70s',\n",
       " u'73',\n",
       " u'75',\n",
       " u'76',\n",
       " u'77',\n",
       " u'78',\n",
       " u'79',\n",
       " u'7th',\n",
       " u'80',\n",
       " u'800',\n",
       " u'80s',\n",
       " u'81',\n",
       " u'82',\n",
       " u'83',\n",
       " u'84',\n",
       " u'85',\n",
       " u'86',\n",
       " u'87',\n",
       " u'88',\n",
       " u'89',\n",
       " u'8mm',\n",
       " u'8th',\n",
       " u'90',\n",
       " u'90210',\n",
       " u'90s',\n",
       " u'91',\n",
       " u'911',\n",
       " u'92',\n",
       " u'93',\n",
       " u'94',\n",
       " u'95',\n",
       " u'96',\n",
       " u'97',\n",
       " u'98',\n",
       " u'99',\n",
       " u'999',\n",
       " u'9mm',\n",
       " u'_____',\n",
       " u'______',\n",
       " u'_and_',\n",
       " u'_babe_',\n",
       " u'_blade',\n",
       " u'_brazil_',\n",
       " u'_do_',\n",
       " u'_does_',\n",
       " u'_don',\n",
       " u'_film',\n",
       " u'_in',\n",
       " u'_is_',\n",
       " u'_last_',\n",
       " u'_life',\n",
       " u'_must_',\n",
       " u'_not_',\n",
       " u'_real_',\n",
       " u'_really_',\n",
       " u'_saturday_night_live_',\n",
       " u'_saving',\n",
       " u'_scream_',\n",
       " u'_that_',\n",
       " u'_the',\n",
       " u'_the_',\n",
       " u'aa',\n",
       " u'aaa',\n",
       " u'aaliyah',\n",
       " u'aardman',\n",
       " u'aaron',\n",
       " u'aback',\n",
       " u'abandon',\n",
       " u'abandoned',\n",
       " u'abandoning',\n",
       " u'abandonment',\n",
       " u'abandons',\n",
       " u'abby',\n",
       " u'abc',\n",
       " u'abdomen',\n",
       " u'abducted',\n",
       " u'abduction',\n",
       " u'abductions',\n",
       " u'abe',\n",
       " u'abel',\n",
       " u'aberdeen',\n",
       " u'aberration',\n",
       " u'abetted',\n",
       " u'abetting',\n",
       " u'abhorrent',\n",
       " u'abilities',\n",
       " u'ability',\n",
       " u'abject',\n",
       " u'ablaze',\n",
       " u'able',\n",
       " u'ably',\n",
       " u'abo',\n",
       " u'aboard',\n",
       " u'abode',\n",
       " u'abolish',\n",
       " u'abolitionists',\n",
       " u'abominable',\n",
       " u'abomination',\n",
       " u'aborted',\n",
       " u'abortion',\n",
       " u'abortions',\n",
       " u'abound',\n",
       " u'abounding',\n",
       " u'abounds',\n",
       " u'abraham',\n",
       " u'abrahams',\n",
       " u'abrams',\n",
       " u'abrasive',\n",
       " u'abroad',\n",
       " u'abrupt',\n",
       " u'abruptly',\n",
       " u'abs',\n",
       " u'absence',\n",
       " u'absences',\n",
       " u'absent',\n",
       " u'absentee',\n",
       " u'absinthe',\n",
       " u'absolute',\n",
       " u'absolutely',\n",
       " u'absolution',\n",
       " u'absorb',\n",
       " u'absorbed',\n",
       " u'absorbing',\n",
       " u'absorbs',\n",
       " u'absorption',\n",
       " u'abstinence',\n",
       " u'abstract',\n",
       " u'absurd',\n",
       " u'absurdist',\n",
       " u'absurdities',\n",
       " u'absurdity',\n",
       " u'absurdly',\n",
       " u'abundance',\n",
       " u'abundant',\n",
       " u'abundantly',\n",
       " u'abuse',\n",
       " u'abused',\n",
       " u'abuser',\n",
       " u'abusers',\n",
       " u'abuses',\n",
       " u'abusing',\n",
       " u'abusive',\n",
       " u'abuzz',\n",
       " u'abysmal',\n",
       " u'abysmally',\n",
       " u'abyss',\n",
       " u'academia',\n",
       " u'academic',\n",
       " u'academy',\n",
       " u'accent',\n",
       " u'accented',\n",
       " u'accents',\n",
       " u'accentuate',\n",
       " u'accentuates',\n",
       " u'accept',\n",
       " u'acceptable',\n",
       " u'acceptance',\n",
       " u'accepted',\n",
       " u'accepting',\n",
       " u'accepts',\n",
       " u'access',\n",
       " u'accessibility',\n",
       " u'accessible',\n",
       " u'accident',\n",
       " u'accidental',\n",
       " u'accidentally',\n",
       " u'accidently',\n",
       " u'accidents',\n",
       " u'acclaim',\n",
       " u'acclaimed',\n",
       " u'accolades',\n",
       " u'accommodates',\n",
       " u'accommodating',\n",
       " u'accompanied',\n",
       " u'accompanies',\n",
       " u'accompaniment',\n",
       " u'accompany',\n",
       " u'accompanying',\n",
       " u'accomplice',\n",
       " u'accomplices',\n",
       " u'accomplish',\n",
       " u'accomplished',\n",
       " u'accomplishes',\n",
       " u'accomplishment',\n",
       " u'accomplishments',\n",
       " u'accordance',\n",
       " u'according',\n",
       " u'accordingly',\n",
       " u'accordion',\n",
       " u'accosted',\n",
       " u'account',\n",
       " u'accountant',\n",
       " u'accounted',\n",
       " u'accounts',\n",
       " u'accumulated',\n",
       " u'accumulation',\n",
       " u'accuracy',\n",
       " u'accurate',\n",
       " u'accurately',\n",
       " u'accusation',\n",
       " u'accusations',\n",
       " u'accuse',\n",
       " u'accused',\n",
       " u'accuses',\n",
       " u'accusing',\n",
       " u'accustomed',\n",
       " u'ace',\n",
       " u'acerbic',\n",
       " u'aces',\n",
       " u'achieve',\n",
       " u'achieved',\n",
       " u'achievement',\n",
       " u'achievements',\n",
       " u'achiever',\n",
       " u'achieves',\n",
       " u'achieving',\n",
       " u'achilles',\n",
       " u'achingly',\n",
       " u'acid',\n",
       " u'acidic',\n",
       " u'ack',\n",
       " u'acknowledge',\n",
       " u'acknowledged',\n",
       " u'acknowledges',\n",
       " u'acknowledging',\n",
       " u'acknowledgment',\n",
       " u'acme',\n",
       " u'acquaintance',\n",
       " u'acquaintances',\n",
       " u'acquire',\n",
       " u'acquired',\n",
       " u'acquit',\n",
       " u'acquits',\n",
       " u'acquittal',\n",
       " u'acquitted',\n",
       " u'acres',\n",
       " u'acrimonious',\n",
       " u'acrobatic',\n",
       " u'acrobatics',\n",
       " u'act',\n",
       " u'acted',\n",
       " u'acting',\n",
       " u'action',\n",
       " u'actioner',\n",
       " u'actioners',\n",
       " u'actionfest',\n",
       " u'actions',\n",
       " u'activated',\n",
       " u'active',\n",
       " u'actively',\n",
       " u'activist',\n",
       " u'activists',\n",
       " u'activities',\n",
       " u'activity',\n",
       " u'actor',\n",
       " u'actors',\n",
       " u'actress',\n",
       " u'actresses',\n",
       " u'acts',\n",
       " u'actual',\n",
       " u'actuality',\n",
       " u'actualization',\n",
       " u'actualizing',\n",
       " u'actually',\n",
       " u'acumen',\n",
       " u'acupuncture',\n",
       " u'acute',\n",
       " u'acutely',\n",
       " u'ad',\n",
       " u'ad2am',\n",
       " u'adage',\n",
       " u'adam',\n",
       " u'adams',\n",
       " u'adapt',\n",
       " u'adaptation',\n",
       " u'adaptations',\n",
       " u'adapted',\n",
       " u'adapting',\n",
       " u'adaption',\n",
       " u'add',\n",
       " u'addams',\n",
       " u'added',\n",
       " u'addict',\n",
       " u'addicted',\n",
       " u'addiction',\n",
       " u'addictive',\n",
       " u'addicts',\n",
       " u'adding',\n",
       " u'addition',\n",
       " u'additional',\n",
       " u'additionally',\n",
       " u'additions',\n",
       " u'addled',\n",
       " u'address',\n",
       " u'addressed',\n",
       " u'addresses',\n",
       " u'addressing',\n",
       " u'adds',\n",
       " u'addy',\n",
       " u'ade',\n",
       " u'adefarasin',\n",
       " u'adept',\n",
       " u'adeptly',\n",
       " u'adequate',\n",
       " u'adequately',\n",
       " u'adhere',\n",
       " u'adherence',\n",
       " u'adheres',\n",
       " u'adjacent',\n",
       " u'adjani',\n",
       " u'adjective',\n",
       " u'adjectives',\n",
       " u'adjoining',\n",
       " u'adjust',\n",
       " u'adjuster',\n",
       " u'adjusting',\n",
       " u'administration',\n",
       " u'admirable',\n",
       " u'admirably',\n",
       " u'admiration',\n",
       " u'admire',\n",
       " u'admired',\n",
       " u'admirer',\n",
       " u'admirers',\n",
       " u'admires',\n",
       " u'admiring',\n",
       " u'admission',\n",
       " u'admit',\n",
       " u'admits',\n",
       " u'admittance',\n",
       " u'admitted',\n",
       " u'admittedly',\n",
       " u'admitting',\n",
       " u'admittingly',\n",
       " u'admonition',\n",
       " u'ado',\n",
       " u'adolescence',\n",
       " u'adolescent',\n",
       " u'adolescents',\n",
       " u'adopt',\n",
       " u'adopted',\n",
       " u'adopting',\n",
       " u'adoption',\n",
       " u'adoptive',\n",
       " u'adopts',\n",
       " u'adorable',\n",
       " u'adoration',\n",
       " u'adore',\n",
       " u'adored',\n",
       " u'adores',\n",
       " u'adorned',\n",
       " u'adrenalin',\n",
       " u'adrenaline',\n",
       " u'adrian',\n",
       " u'adrien',\n",
       " u'adrift',\n",
       " u'adroitly',\n",
       " u'ads',\n",
       " u'adult',\n",
       " u'adulterous',\n",
       " u'adultery',\n",
       " u'adulthood',\n",
       " u'adults',\n",
       " u'advance',\n",
       " u'advanced',\n",
       " u'advancement',\n",
       " u'advances',\n",
       " u'advancing',\n",
       " u'advantage',\n",
       " u'advantages',\n",
       " u'advent',\n",
       " u'adventure',\n",
       " u'adventurer',\n",
       " u'adventures',\n",
       " u'adventurous',\n",
       " u'adversarial',\n",
       " u'adversary',\n",
       " u'adverse',\n",
       " u'adversity',\n",
       " u'advertise',\n",
       " u'advertised',\n",
       " u'advertisement',\n",
       " u'advertisements',\n",
       " u'advertiser',\n",
       " u'advertising',\n",
       " u'advice',\n",
       " u'advisable',\n",
       " u'advise',\n",
       " u'advised',\n",
       " u'adviser',\n",
       " u'advisers',\n",
       " u'advises',\n",
       " u'advising',\n",
       " u'advisor',\n",
       " u'advisors',\n",
       " u'advocate',\n",
       " u'advocating',\n",
       " u'aerial',\n",
       " u'aerosmith',\n",
       " u'aesthetic',\n",
       " u'aesthetically',\n",
       " u'aesthetics',\n",
       " u'afar',\n",
       " u'affability',\n",
       " u'affable',\n",
       " u'affair',\n",
       " u'affairs',\n",
       " u'affect',\n",
       " u'affectations',\n",
       " u'affected',\n",
       " u'affecting',\n",
       " u'affection',\n",
       " u'affectionate',\n",
       " u'affectionately',\n",
       " u'affections',\n",
       " u'affects',\n",
       " u'affiliate',\n",
       " u'affiliated',\n",
       " u'affinity',\n",
       " u'affirmation',\n",
       " u'affirmative',\n",
       " u'affirming',\n",
       " u'affleck',\n",
       " u'afflicted',\n",
       " u'affliction',\n",
       " u'affluent',\n",
       " u'afford',\n",
       " u'affordable',\n",
       " u'afforded',\n",
       " u'affraid',\n",
       " u'affront',\n",
       " u'afi',\n",
       " u'aficionado',\n",
       " u'aficionados',\n",
       " u'afield',\n",
       " u'afloat',\n",
       " u'afo',\n",
       " u'afoot',\n",
       " u'afore',\n",
       " u'aforementioned',\n",
       " u'aformentioned',\n",
       " u'afoul',\n",
       " u'afraid',\n",
       " u'africa',\n",
       " u'african',\n",
       " u'africans',\n",
       " u'afro',\n",
       " u'aftereffects',\n",
       " u'afterglow',\n",
       " u'afterlife',\n",
       " u'aftermath',\n",
       " u'afternoon',\n",
       " u'afternoons',\n",
       " u'aftertaste',\n",
       " u'afterthought',\n",
       " u'afterward',\n",
       " u'agape',\n",
       " u'agatha',\n",
       " u'age',\n",
       " u'aged',\n",
       " u'ageing',\n",
       " u'agencies',\n",
       " u'agency',\n",
       " u'agenda',\n",
       " u'agent',\n",
       " u'agents',\n",
       " u'ages',\n",
       " u'aggravating',\n",
       " u'aggression',\n",
       " u'aggressive',\n",
       " u'aggressively',\n",
       " u'agile',\n",
       " u'agility',\n",
       " u'aging',\n",
       " u'agitated',\n",
       " u'ago',\n",
       " u'agonizing',\n",
       " u'agonizingly',\n",
       " u'agony',\n",
       " u'agree',\n",
       " u'agreeable',\n",
       " u'agreed',\n",
       " u'agreeing',\n",
       " u'agreement',\n",
       " u'agrees',\n",
       " u'ah',\n",
       " u'ahabs',\n",
       " u'ahead',\n",
       " u'ahem',\n",
       " u'ahern',\n",
       " u'ahh',\n",
       " u'ahmed',\n",
       " u'aid',\n",
       " u'aidan',\n",
       " u'aide',\n",
       " u'aided',\n",
       " u'aiding',\n",
       " u'aids',\n",
       " u'aiello',\n",
       " u'ailing',\n",
       " u'aim',\n",
       " u'aimed',\n",
       " u'aimee',\n",
       " u'aiming',\n",
       " u'aimless',\n",
       " u'aimlessly',\n",
       " u'aims',\n",
       " u'ain',\n",
       " u'air',\n",
       " u'aircraft',\n",
       " u'aired',\n",
       " u'aires',\n",
       " u'airline',\n",
       " u'airliner',\n",
       " u'airlock',\n",
       " u'airplane',\n",
       " u'airplanes',\n",
       " u'airport',\n",
       " u'airwaves',\n",
       " u'airwolf',\n",
       " u'airy',\n",
       " u'aisle',\n",
       " u'aisles',\n",
       " u'aka',\n",
       " u'aki',\n",
       " u'akin',\n",
       " u'akira',\n",
       " u'akiva',\n",
       " u'akroyd',\n",
       " u'al',\n",
       " u'ala',\n",
       " u'aladdin',\n",
       " u'alain',\n",
       " u'alan',\n",
       " u'alanis',\n",
       " u'alarm',\n",
       " u'alarmed',\n",
       " u'alarming',\n",
       " u'alas',\n",
       " u'alaska',\n",
       " u'albania',\n",
       " u'albanian',\n",
       " u'albeit',\n",
       " u'albert',\n",
       " u'alberta',\n",
       " u'albertson',\n",
       " u'albino',\n",
       " u'albinos',\n",
       " u'album',\n",
       " u'albums',\n",
       " u'alcohol',\n",
       " u'alcoholic',\n",
       " u'alcoholics',\n",
       " u'alcoholism',\n",
       " u'alcott',\n",
       " u'alda',\n",
       " u'aldys',\n",
       " u'alec',\n",
       " u'alejandro',\n",
       " u'alek',\n",
       " u'alert',\n",
       " u'alerted',\n",
       " u'alessandro',\n",
       " u'alex',\n",
       " u'alexander',\n",
       " u'alexandra',\n",
       " u'alexandre',\n",
       " u'alfonso',\n",
       " u'alfre',\n",
       " u'alfred',\n",
       " u'algar',\n",
       " u'ali',\n",
       " u'alias',\n",
       " u'aliases',\n",
       " u'alice',\n",
       " u'alicia',\n",
       " u'alida',\n",
       " u'alien',\n",
       " u'alienate',\n",
       " u'alienated',\n",
       " u'alienates',\n",
       " u'alienating',\n",
       " u'alienation',\n",
       " u'aliens',\n",
       " u'align',\n",
       " u'alignment',\n",
       " u'alike',\n",
       " u'alison',\n",
       " u'alive',\n",
       " u'allah',\n",
       " u'allan',\n",
       " u'allegations',\n",
       " u'alleged',\n",
       " u'allegedly',\n",
       " u'allegiance',\n",
       " u'allegiances',\n",
       " u'allegory',\n",
       " u'allegra',\n",
       " u'allen',\n",
       " u'allergy',\n",
       " u'alleviate',\n",
       " u'alley',\n",
       " u'alleys',\n",
       " u'alliance',\n",
       " u'alliances',\n",
       " u'allied',\n",
       " u'allies',\n",
       " u'alligator',\n",
       " u'alligators',\n",
       " u'allison',\n",
       " u'allow',\n",
       " u'allowed',\n",
       " u'allowing',\n",
       " u'allows',\n",
       " u'alluded',\n",
       " u'allure',\n",
       " u'alluring',\n",
       " u'allusion',\n",
       " u'allusions',\n",
       " u'ally',\n",
       " u'alma',\n",
       " u'almod',\n",
       " u'alongside',\n",
       " u'aloof',\n",
       " u'alot',\n",
       " u'aloud',\n",
       " u'alright',\n",
       " u'altar',\n",
       " u'alter',\n",
       " u'alteration',\n",
       " u'alterations',\n",
       " u'altered',\n",
       " u'altering',\n",
       " u'alternate',\n",
       " u'alternately',\n",
       " u'alternates',\n",
       " u'alternating',\n",
       " u'alternative',\n",
       " u'alternatively',\n",
       " u'alters',\n",
       " u'althea',\n",
       " u'altman',\n",
       " u'altogether',\n",
       " u'altough',\n",
       " u'alum',\n",
       " u'alumni',\n",
       " u'alumnus',\n",
       " u'alvarado',\n",
       " u'alvin',\n",
       " u'alyson',\n",
       " u'alyssa',\n",
       " u'alzheimer',\n",
       " u'amadeus',\n",
       " u'amalgamation',\n",
       " u'amanda',\n",
       " u'amarillo',\n",
       " u'amateur',\n",
       " u'amateurish',\n",
       " u'amateurishly',\n",
       " u'amaze',\n",
       " u'amazed',\n",
       " u'amazement',\n",
       " u'amazes',\n",
       " u'amazing',\n",
       " u'amazingly',\n",
       " u'amazon',\n",
       " u'ambassador',\n",
       " u'ambassadors',\n",
       " u'amber',\n",
       " u'ambiance',\n",
       " u'ambience',\n",
       " u'ambient',\n",
       " u'ambiguities',\n",
       " u'ambiguity',\n",
       " u'ambiguous',\n",
       " u'ambiguously',\n",
       " u'ambition',\n",
       " u'ambitions',\n",
       " u'ambitious',\n",
       " u'ambitiously',\n",
       " u'ambivalence',\n",
       " u'ambivalent',\n",
       " u'ambrose',\n",
       " u'ambulance',\n",
       " u'ambush',\n",
       " u'amc',\n",
       " u'amen',\n",
       " u'amendment',\n",
       " u'amends',\n",
       " u'america',\n",
       " u'american',\n",
       " u'americanized',\n",
       " u'americans',\n",
       " u'americas',\n",
       " u'ames',\n",
       " u'amiable',\n",
       " u'amicable',\n",
       " u'amid',\n",
       " u'amidala',\n",
       " u'amidst',\n",
       " u'amis',\n",
       " u'amish',\n",
       " u'amiss',\n",
       " u'amistad',\n",
       " u'ammo',\n",
       " u'ammunition',\n",
       " u'amnesia',\n",
       " u'amnesiac',\n",
       " u'amok',\n",
       " u'amon',\n",
       " u'amoral',\n",
       " u'amorality',\n",
       " u'amos',\n",
       " u'amounted',\n",
       " u'amounts',\n",
       " u'amphetamines',\n",
       " u'amphibian',\n",
       " u'ample',\n",
       " u'amplified',\n",
       " u'amply',\n",
       " u'amputated',\n",
       " u'amuck',\n",
       " u'amuse',\n",
       " u'amused',\n",
       " u'amusement',\n",
       " u'amusements',\n",
       " u'amusing',\n",
       " u'amusingly',\n",
       " u'amy',\n",
       " u'anaconda',\n",
       " u'anacondas',\n",
       " u'anakin',\n",
       " u'anal',\n",
       " u'analogy',\n",
       " u'analyses',\n",
       " u'analysis',\n",
       " u'analyst',\n",
       " u'analysts',\n",
       " u'analyze',\n",
       " u'analyzed',\n",
       " u'analyzing',\n",
       " u'anand',\n",
       " u'anarchic',\n",
       " u'anarchists',\n",
       " u'anarchy',\n",
       " u'anastasia',\n",
       " u'anatomy',\n",
       " u'ancestors',\n",
       " u'anchor',\n",
       " u'anchors',\n",
       " u'ancient',\n",
       " u'anders',\n",
       " u'anderson',\n",
       " u'andersons',\n",
       " u'andie',\n",
       " u'andre',\n",
       " u'andrea',\n",
       " u'andreas',\n",
       " u'andrew',\n",
       " u'andrews',\n",
       " u'android',\n",
       " u'androids',\n",
       " u'andromeda',\n",
       " u'andrzej',\n",
       " u'andy',\n",
       " u'anecdotal',\n",
       " u'anecdote',\n",
       " u'anecdotes',\n",
       " u'anemic',\n",
       " u'anew',\n",
       " u'ang',\n",
       " u'angel',\n",
       " u'angela',\n",
       " u'angeles',\n",
       " u'angelic',\n",
       " u'angelina',\n",
       " u'angelo',\n",
       " u'angels',\n",
       " u'anger',\n",
       " ...]"
      ]
     },
     "execution_count": 202,
     "metadata": {},
     "output_type": "execute_result"
    }
   ],
   "source": [
    "x_names=count_vect.get_feature_names()\n",
    "x_names"
   ]
  },
  {
   "cell_type": "code",
   "execution_count": 204,
   "metadata": {},
   "outputs": [],
   "source": [
    "x_count_vect=pd.DataFrame(x_count_vect.toarray(),columns=x_names)"
   ]
  },
  {
   "cell_type": "code",
   "execution_count": 205,
   "metadata": {},
   "outputs": [
    {
     "data": {
      "text/plain": [
       "(2000, 23784)"
      ]
     },
     "execution_count": 205,
     "metadata": {},
     "output_type": "execute_result"
    }
   ],
   "source": [
    "x_count_vect.shape"
   ]
  },
  {
   "cell_type": "code",
   "execution_count": 206,
   "metadata": {},
   "outputs": [
    {
     "data": {
      "text/html": [
       "<div>\n",
       "<style scoped>\n",
       "    .dataframe tbody tr th:only-of-type {\n",
       "        vertical-align: middle;\n",
       "    }\n",
       "\n",
       "    .dataframe tbody tr th {\n",
       "        vertical-align: top;\n",
       "    }\n",
       "\n",
       "    .dataframe thead th {\n",
       "        text-align: right;\n",
       "    }\n",
       "</style>\n",
       "<table border=\"1\" class=\"dataframe\">\n",
       "  <thead>\n",
       "    <tr style=\"text-align: right;\">\n",
       "      <th></th>\n",
       "      <th>00</th>\n",
       "      <th>000</th>\n",
       "      <th>007</th>\n",
       "      <th>05</th>\n",
       "      <th>10</th>\n",
       "      <th>100</th>\n",
       "      <th>1000</th>\n",
       "      <th>100m</th>\n",
       "      <th>101</th>\n",
       "      <th>102</th>\n",
       "      <th>...</th>\n",
       "      <th>zoom</th>\n",
       "      <th>zooming</th>\n",
       "      <th>zooms</th>\n",
       "      <th>zoot</th>\n",
       "      <th>zorg</th>\n",
       "      <th>zorro</th>\n",
       "      <th>zucker</th>\n",
       "      <th>zuko</th>\n",
       "      <th>zwick</th>\n",
       "      <th>zwigoff</th>\n",
       "    </tr>\n",
       "  </thead>\n",
       "  <tbody>\n",
       "    <tr>\n",
       "      <th>0</th>\n",
       "      <td>0</td>\n",
       "      <td>0</td>\n",
       "      <td>0</td>\n",
       "      <td>0</td>\n",
       "      <td>10</td>\n",
       "      <td>0</td>\n",
       "      <td>0</td>\n",
       "      <td>0</td>\n",
       "      <td>0</td>\n",
       "      <td>0</td>\n",
       "      <td>...</td>\n",
       "      <td>0</td>\n",
       "      <td>0</td>\n",
       "      <td>0</td>\n",
       "      <td>0</td>\n",
       "      <td>0</td>\n",
       "      <td>0</td>\n",
       "      <td>0</td>\n",
       "      <td>0</td>\n",
       "      <td>0</td>\n",
       "      <td>0</td>\n",
       "    </tr>\n",
       "    <tr>\n",
       "      <th>1</th>\n",
       "      <td>0</td>\n",
       "      <td>0</td>\n",
       "      <td>0</td>\n",
       "      <td>0</td>\n",
       "      <td>0</td>\n",
       "      <td>0</td>\n",
       "      <td>0</td>\n",
       "      <td>0</td>\n",
       "      <td>0</td>\n",
       "      <td>0</td>\n",
       "      <td>...</td>\n",
       "      <td>0</td>\n",
       "      <td>0</td>\n",
       "      <td>0</td>\n",
       "      <td>0</td>\n",
       "      <td>0</td>\n",
       "      <td>0</td>\n",
       "      <td>0</td>\n",
       "      <td>0</td>\n",
       "      <td>0</td>\n",
       "      <td>0</td>\n",
       "    </tr>\n",
       "    <tr>\n",
       "      <th>2</th>\n",
       "      <td>0</td>\n",
       "      <td>0</td>\n",
       "      <td>0</td>\n",
       "      <td>0</td>\n",
       "      <td>0</td>\n",
       "      <td>0</td>\n",
       "      <td>0</td>\n",
       "      <td>0</td>\n",
       "      <td>0</td>\n",
       "      <td>0</td>\n",
       "      <td>...</td>\n",
       "      <td>0</td>\n",
       "      <td>0</td>\n",
       "      <td>0</td>\n",
       "      <td>0</td>\n",
       "      <td>0</td>\n",
       "      <td>0</td>\n",
       "      <td>0</td>\n",
       "      <td>0</td>\n",
       "      <td>0</td>\n",
       "      <td>0</td>\n",
       "    </tr>\n",
       "    <tr>\n",
       "      <th>3</th>\n",
       "      <td>0</td>\n",
       "      <td>0</td>\n",
       "      <td>0</td>\n",
       "      <td>0</td>\n",
       "      <td>0</td>\n",
       "      <td>0</td>\n",
       "      <td>0</td>\n",
       "      <td>0</td>\n",
       "      <td>0</td>\n",
       "      <td>0</td>\n",
       "      <td>...</td>\n",
       "      <td>0</td>\n",
       "      <td>0</td>\n",
       "      <td>0</td>\n",
       "      <td>0</td>\n",
       "      <td>0</td>\n",
       "      <td>0</td>\n",
       "      <td>0</td>\n",
       "      <td>0</td>\n",
       "      <td>0</td>\n",
       "      <td>0</td>\n",
       "    </tr>\n",
       "    <tr>\n",
       "      <th>4</th>\n",
       "      <td>0</td>\n",
       "      <td>0</td>\n",
       "      <td>0</td>\n",
       "      <td>0</td>\n",
       "      <td>0</td>\n",
       "      <td>0</td>\n",
       "      <td>0</td>\n",
       "      <td>0</td>\n",
       "      <td>0</td>\n",
       "      <td>0</td>\n",
       "      <td>...</td>\n",
       "      <td>0</td>\n",
       "      <td>0</td>\n",
       "      <td>0</td>\n",
       "      <td>0</td>\n",
       "      <td>0</td>\n",
       "      <td>0</td>\n",
       "      <td>0</td>\n",
       "      <td>0</td>\n",
       "      <td>0</td>\n",
       "      <td>0</td>\n",
       "    </tr>\n",
       "  </tbody>\n",
       "</table>\n",
       "<p>5 rows × 23784 columns</p>\n",
       "</div>"
      ],
      "text/plain": [
       "   00  000  007  05  10  100  1000  100m  101  102  ...  zoom  zooming  zooms  \\\n",
       "0   0    0    0   0  10    0     0     0    0    0  ...     0        0      0   \n",
       "1   0    0    0   0   0    0     0     0    0    0  ...     0        0      0   \n",
       "2   0    0    0   0   0    0     0     0    0    0  ...     0        0      0   \n",
       "3   0    0    0   0   0    0     0     0    0    0  ...     0        0      0   \n",
       "4   0    0    0   0   0    0     0     0    0    0  ...     0        0      0   \n",
       "\n",
       "   zoot  zorg  zorro  zucker  zuko  zwick  zwigoff  \n",
       "0     0     0      0       0     0      0        0  \n",
       "1     0     0      0       0     0      0        0  \n",
       "2     0     0      0       0     0      0        0  \n",
       "3     0     0      0       0     0      0        0  \n",
       "4     0     0      0       0     0      0        0  \n",
       "\n",
       "[5 rows x 23784 columns]"
      ]
     },
     "execution_count": 206,
     "metadata": {},
     "output_type": "execute_result"
    }
   ],
   "source": [
    "x_count_vect.head()"
   ]
  },
  {
   "cell_type": "code",
   "execution_count": 209,
   "metadata": {},
   "outputs": [],
   "source": [
    "#Training and Testing set\n",
    "#confusion_matrix is to evaluate the accuracy of a classification. By definition a confusion matrix is such that is equal to the number of observations known to be in group but predicted to be in group ."
   ]
  },
  {
   "cell_type": "code",
   "execution_count": 214,
   "metadata": {},
   "outputs": [],
   "source": [
    "from sklearn.model_selection import train_test_split\n",
    "from sklearn import metrics\n",
    "from sklearn.metrics import confusion_matrix"
   ]
  },
  {
   "cell_type": "code",
   "execution_count": 215,
   "metadata": {},
   "outputs": [],
   "source": [
    "x_train_cv,x_test_cv,y_train_cv,y_test_cv=train_test_split(x_count_vect,y,test_size=0.25,random_state=5)"
   ]
  },
  {
   "cell_type": "code",
   "execution_count": 216,
   "metadata": {},
   "outputs": [
    {
     "data": {
      "text/plain": [
       "(1500, 23784)"
      ]
     },
     "execution_count": 216,
     "metadata": {},
     "output_type": "execute_result"
    }
   ],
   "source": [
    "x_train_cv.shape"
   ]
  },
  {
   "cell_type": "code",
   "execution_count": 217,
   "metadata": {},
   "outputs": [
    {
     "data": {
      "text/plain": [
       "(500, 23784)"
      ]
     },
     "execution_count": 217,
     "metadata": {},
     "output_type": "execute_result"
    }
   ],
   "source": [
    "x_test_cv.shape"
   ]
  },
  {
   "cell_type": "code",
   "execution_count": 218,
   "metadata": {},
   "outputs": [],
   "source": [
    "#naive bays clasifier for text classification "
   ]
  },
  {
   "cell_type": "code",
   "execution_count": 220,
   "metadata": {},
   "outputs": [],
   "source": [
    "from sklearn.naive_bayes import GaussianNB"
   ]
  },
  {
   "cell_type": "code",
   "execution_count": 223,
   "metadata": {},
   "outputs": [],
   "source": [
    "gnb=GaussianNB()\n",
    "y_pred_gnb=gnb.fit(x_train_cv,y_train_cv).predict(x_test_cv)"
   ]
  },
  {
   "cell_type": "code",
   "execution_count": 224,
   "metadata": {},
   "outputs": [],
   "source": [
    "from sklearn.naive_bayes import MultinomialNB"
   ]
  },
  {
   "cell_type": "code",
   "execution_count": 226,
   "metadata": {},
   "outputs": [
    {
     "data": {
      "text/plain": [
       "MultinomialNB(alpha=1.0, class_prior=None, fit_prior=True)"
      ]
     },
     "execution_count": 226,
     "metadata": {},
     "output_type": "execute_result"
    }
   ],
   "source": [
    "clf_cv=MultinomialNB()\n",
    "clf_cv.fit(x_train_cv,y_train_cv)"
   ]
  },
  {
   "cell_type": "code",
   "execution_count": 227,
   "metadata": {},
   "outputs": [
    {
     "data": {
      "text/plain": [
       "numpy.ndarray"
      ]
     },
     "execution_count": 227,
     "metadata": {},
     "output_type": "execute_result"
    }
   ],
   "source": [
    "y_pred_cv=clf_cv.predict(x_test_cv)\n",
    "type(y_pred_cv)"
   ]
  },
  {
   "cell_type": "code",
   "execution_count": 232,
   "metadata": {},
   "outputs": [
    {
     "name": "stdout",
     "output_type": "stream",
     "text": [
      "0.798\n"
     ]
    }
   ],
   "source": [
    "print(metrics.accuracy_score(y_test_cv,y_pred_cv))"
   ]
  },
  {
   "cell_type": "code",
   "execution_count": 233,
   "metadata": {},
   "outputs": [
    {
     "data": {
      "text/plain": [
       "array([[213,  45],\n",
       "       [ 56, 186]], dtype=int64)"
      ]
     },
     "execution_count": 233,
     "metadata": {},
     "output_type": "execute_result"
    }
   ],
   "source": [
    "score_clf_cv=confusion_matrix(y_test_cv,y_pred_cv)\n",
    "score_clf_cv"
   ]
  }
 ],
 "metadata": {
  "kernelspec": {
   "display_name": "Python 2",
   "language": "python",
   "name": "python2"
  },
  "language_info": {
   "codemirror_mode": {
    "name": "ipython",
    "version": 2
   },
   "file_extension": ".py",
   "mimetype": "text/x-python",
   "name": "python",
   "nbconvert_exporter": "python",
   "pygments_lexer": "ipython2",
   "version": "2.7.16"
  }
 },
 "nbformat": 4,
 "nbformat_minor": 2
}
